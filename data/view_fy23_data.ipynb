{
 "cells": [
  {
   "cell_type": "markdown",
   "id": "183215af",
   "metadata": {},
   "source": [
    "# View Attachmnet Data\n",
    "\n",
    "Use this as a guide to be able to view attachment data based on it's unique Solicitation Number. "
   ]
  },
  {
   "cell_type": "code",
   "execution_count": 14,
   "id": "32945dd6",
   "metadata": {},
   "outputs": [],
   "source": [
    "import pandas as pd\n",
    "import csv\n",
    "from IPython.display import display, HTML"
   ]
  },
  {
   "cell_type": "code",
   "execution_count": 15,
   "id": "b810ba70",
   "metadata": {},
   "outputs": [
    {
     "data": {
      "text/html": [
       "<div>\n",
       "<style scoped>\n",
       "    .dataframe tbody tr th:only-of-type {\n",
       "        vertical-align: middle;\n",
       "    }\n",
       "\n",
       "    .dataframe tbody tr th {\n",
       "        vertical-align: top;\n",
       "    }\n",
       "\n",
       "    .dataframe thead th {\n",
       "        text-align: right;\n",
       "    }\n",
       "</style>\n",
       "<table border=\"1\" class=\"dataframe\">\n",
       "  <thead>\n",
       "    <tr style=\"text-align: right;\">\n",
       "      <th></th>\n",
       "      <th>solNum</th>\n",
       "      <th>title</th>\n",
       "      <th>agency</th>\n",
       "      <th>office</th>\n",
       "      <th>createdAt</th>\n",
       "      <th>reviewRec</th>\n",
       "      <th>filename</th>\n",
       "      <th>attachment_url</th>\n",
       "      <th>machine_readable</th>\n",
       "      <th>prediction</th>\n",
       "      <th>decision_boundary</th>\n",
       "      <th>attachment_text</th>\n",
       "    </tr>\n",
       "  </thead>\n",
       "  <tbody>\n",
       "    <tr>\n",
       "      <th>0</th>\n",
       "      <td>12905B23Q0221</td>\n",
       "      <td>(2) Steris Autoclaves Annual Maintenance Servi...</td>\n",
       "      <td>Department of Agriculture</td>\n",
       "      <td>AGRICULTURAL RESEARCH SERVICE</td>\n",
       "      <td>2023-08-22 10:03:25.254491</td>\n",
       "      <td>Non-compliant (Action Required)</td>\n",
       "      <td>Attachment 2 - Wage Determination Number 2015-...</td>\n",
       "      <td>https://sam.gov/api/prod/opps/v3/opportunities...</td>\n",
       "      <td>t</td>\n",
       "      <td>0</td>\n",
       "      <td>0.483850</td>\n",
       "      <td>8/21/23, 5:36 PM\\n\\nSAM.gov\\n\\n\"REGISTER OF WA...</td>\n",
       "    </tr>\n",
       "    <tr>\n",
       "      <th>1</th>\n",
       "      <td>3-B139-Q-00822-00</td>\n",
       "      <td>4-Channel Picoammeters</td>\n",
       "      <td>Department of Energy</td>\n",
       "      <td>ENERGY, DEPARTMENT OF</td>\n",
       "      <td>2023-08-23 10:04:46.251159</td>\n",
       "      <td>Non-compliant (Action Required)</td>\n",
       "      <td>Appendix A-71COM-13-FEB-2023.pdf</td>\n",
       "      <td>https://sam.gov/api/prod/opps/v3/opportunities...</td>\n",
       "      <td>t</td>\n",
       "      <td>0</td>\n",
       "      <td>0.407530</td>\n",
       "      <td>ANL-71-COM (February 13, 2023)\\nAPPENDIX A\\nAr...</td>\n",
       "    </tr>\n",
       "    <tr>\n",
       "      <th>2</th>\n",
       "      <td>3-B139-Q-00822-00</td>\n",
       "      <td>4-Channel Picoammeters</td>\n",
       "      <td>Department of Energy</td>\n",
       "      <td>ENERGY, DEPARTMENT OF</td>\n",
       "      <td>2023-08-23 10:04:46.251159</td>\n",
       "      <td>Non-compliant (Action Required)</td>\n",
       "      <td>ANL-70 Request for Quotation.doc</td>\n",
       "      <td>https://sam.gov/api/prod/opps/v3/opportunities...</td>\n",
       "      <td>t</td>\n",
       "      <td>0</td>\n",
       "      <td>0.453443</td>\n",
       "      <td>ANL-70 (February 22, 2013)\\n|                 ...</td>\n",
       "    </tr>\n",
       "    <tr>\n",
       "      <th>3</th>\n",
       "      <td>3-B139-Q-00822-00</td>\n",
       "      <td>4-Channel Picoammeters</td>\n",
       "      <td>Department of Energy</td>\n",
       "      <td>ENERGY, DEPARTMENT OF</td>\n",
       "      <td>2023-08-23 10:04:46.251159</td>\n",
       "      <td>Non-compliant (Action Required)</td>\n",
       "      <td>Reps and Certs ANL-70B.pdf</td>\n",
       "      <td>https://sam.gov/api/prod/opps/v3/opportunities...</td>\n",
       "      <td>t</td>\n",
       "      <td>0</td>\n",
       "      <td>0.401181</td>\n",
       "      <td>ANL-70B (June 06, 2022)\\n\\nPRE-AWARD INFORMATI...</td>\n",
       "    </tr>\n",
       "    <tr>\n",
       "      <th>4</th>\n",
       "      <td>3-B139-Q-00822-00</td>\n",
       "      <td>4-Channel Picoammeters</td>\n",
       "      <td>Department of Energy</td>\n",
       "      <td>ENERGY, DEPARTMENT OF</td>\n",
       "      <td>2023-08-23 10:04:46.251159</td>\n",
       "      <td>Non-compliant (Action Required)</td>\n",
       "      <td>Appendix D8C-02-JUL-2020.pdf</td>\n",
       "      <td>https://sam.gov/api/prod/opps/v3/opportunities...</td>\n",
       "      <td>t</td>\n",
       "      <td>0</td>\n",
       "      <td>0.380275</td>\n",
       "      <td>ANL 562IP (June 2020)\\n\\nAPPENDIX D-8-C\\nINTEL...</td>\n",
       "    </tr>\n",
       "  </tbody>\n",
       "</table>\n",
       "</div>"
      ],
      "text/plain": [
       "              solNum                                              title  \\\n",
       "0      12905B23Q0221  (2) Steris Autoclaves Annual Maintenance Servi...   \n",
       "1  3-B139-Q-00822-00                             4-Channel Picoammeters   \n",
       "2  3-B139-Q-00822-00                             4-Channel Picoammeters   \n",
       "3  3-B139-Q-00822-00                             4-Channel Picoammeters   \n",
       "4  3-B139-Q-00822-00                             4-Channel Picoammeters   \n",
       "\n",
       "                      agency                         office  \\\n",
       "0  Department of Agriculture  AGRICULTURAL RESEARCH SERVICE   \n",
       "1       Department of Energy          ENERGY, DEPARTMENT OF   \n",
       "2       Department of Energy          ENERGY, DEPARTMENT OF   \n",
       "3       Department of Energy          ENERGY, DEPARTMENT OF   \n",
       "4       Department of Energy          ENERGY, DEPARTMENT OF   \n",
       "\n",
       "                    createdAt                        reviewRec  \\\n",
       "0  2023-08-22 10:03:25.254491  Non-compliant (Action Required)   \n",
       "1  2023-08-23 10:04:46.251159  Non-compliant (Action Required)   \n",
       "2  2023-08-23 10:04:46.251159  Non-compliant (Action Required)   \n",
       "3  2023-08-23 10:04:46.251159  Non-compliant (Action Required)   \n",
       "4  2023-08-23 10:04:46.251159  Non-compliant (Action Required)   \n",
       "\n",
       "                                            filename  \\\n",
       "0  Attachment 2 - Wage Determination Number 2015-...   \n",
       "1                   Appendix A-71COM-13-FEB-2023.pdf   \n",
       "2                   ANL-70 Request for Quotation.doc   \n",
       "3                         Reps and Certs ANL-70B.pdf   \n",
       "4                       Appendix D8C-02-JUL-2020.pdf   \n",
       "\n",
       "                                      attachment_url machine_readable  \\\n",
       "0  https://sam.gov/api/prod/opps/v3/opportunities...                t   \n",
       "1  https://sam.gov/api/prod/opps/v3/opportunities...                t   \n",
       "2  https://sam.gov/api/prod/opps/v3/opportunities...                t   \n",
       "3  https://sam.gov/api/prod/opps/v3/opportunities...                t   \n",
       "4  https://sam.gov/api/prod/opps/v3/opportunities...                t   \n",
       "\n",
       "   prediction  decision_boundary  \\\n",
       "0           0           0.483850   \n",
       "1           0           0.407530   \n",
       "2           0           0.453443   \n",
       "3           0           0.401181   \n",
       "4           0           0.380275   \n",
       "\n",
       "                                     attachment_text  \n",
       "0  8/21/23, 5:36 PM\\n\\nSAM.gov\\n\\n\"REGISTER OF WA...  \n",
       "1  ANL-71-COM (February 13, 2023)\\nAPPENDIX A\\nAr...  \n",
       "2  ANL-70 (February 22, 2013)\\n|                 ...  \n",
       "3  ANL-70B (June 06, 2022)\\n\\nPRE-AWARD INFORMATI...  \n",
       "4  ANL 562IP (June 2020)\\n\\nAPPENDIX D-8-C\\nINTEL...  "
      ]
     },
     "execution_count": 15,
     "metadata": {},
     "output_type": "execute_result"
    }
   ],
   "source": [
    "df = pd.read_csv('fy23_training_with_attachments.csv')\n",
    "df.head(5)"
   ]
  },
  {
   "cell_type": "markdown",
   "id": "b8e8b5d7",
   "metadata": {},
   "source": [
    "To view solcitiation attachmnets, type in the solicitation number."
   ]
  },
  {
   "cell_type": "code",
   "execution_count": 4,
   "id": "d20e047e",
   "metadata": {},
   "outputs": [
    {
     "name": "stdout",
     "output_type": "stream",
     "text": [
      "['12905B23Q0221' '3-B139-Q-00822-00' 'CO320-23' ... '12505B23Q0298'\n",
      " 'W911S623Q0022-MET' '12805B23Q0918']\n"
     ]
    }
   ],
   "source": [
    "# Get all the unqiue sol numbers from the dataframe\n",
    "\n",
    "sol_numbers = df.solNum.unique()\n",
    "#attachments = df.loc[df['solNum'] == '12905B23Q0221']\n",
    "print(sol_numbers)\n",
    "\n"
   ]
  },
  {
   "cell_type": "code",
   "execution_count": 5,
   "id": "6cb45d78",
   "metadata": {},
   "outputs": [
    {
     "data": {
      "text/html": [
       "Statement of Work (SOW)\n",
       "Comprehensive maintenance of and service for two STERIS sterilizers, covering all parts, labor,\n",
       "travel, and any other incidental costs.\n",
       "To include 4 standard inspections (and related cleaning and calibration) per year for each of the 2\n",
       "units throughout the service period as well as timely response to service requests and on-demand\n",
       "assistance remotely.\n",
       "All replacement parts to be STERIS brand or STERIS recommended. The autoclaves are\n",
       "currently due for maintenance and inspection."
      ],
      "text/plain": [
       "<IPython.core.display.HTML object>"
      ]
     },
     "metadata": {},
     "output_type": "display_data"
    }
   ],
   "source": [
    "# Add in the solNum to view the attachement text\n",
    "# The display will be an HTML view\n",
    "view = df.loc[df['solNum'] == '12905B23Q0221', 'attachment_text'].iloc[1]\n",
    "display(HTML(view))\n"
   ]
  },
  {
   "cell_type": "code",
   "execution_count": 12,
   "id": "9652055c",
   "metadata": {},
   "outputs": [
    {
     "name": "stdout",
     "output_type": "stream",
     "text": [
      "no matches\n"
     ]
    }
   ],
   "source": [
    "# Search for relevant key words for checking for Section 508 language in the attachment txt data\n",
    "find = [\"Section 508\", \"Accessibility\", \"Rehabilitation Act of 1973\"]\n",
    "\n",
    "\n",
    "if any(x in view for x in find):\n",
    "    print(find)\n",
    "else:\n",
    "    print(\"no matches\")"
   ]
  },
  {
   "cell_type": "code",
   "execution_count": 20,
   "metadata": {},
   "outputs": [
    {
     "ename": "AttributeError",
     "evalue": "'str' object has no attribute 'str'",
     "output_type": "error",
     "traceback": [
      "\u001b[0;31m---------------------------------------------------------------------------\u001b[0m",
      "\u001b[0;31mAttributeError\u001b[0m                            Traceback (most recent call last)",
      "\u001b[1;32m/home/adambuckingham/code/GSA/srt/srt-fbo-scraper/data/view_fy23_data.ipynb Cell 8\u001b[0m line \u001b[0;36m2\n\u001b[1;32m     <a href='vscode-notebook-cell://wsl%2Bubuntu/home/adambuckingham/code/GSA/srt/srt-fbo-scraper/data/view_fy23_data.ipynb#X10sdnNjb2RlLXJlbW90ZQ%3D%3D?line=20'>21</a>\u001b[0m \u001b[39mif\u001b[39;00m attachment_text:\n\u001b[1;32m     <a href='vscode-notebook-cell://wsl%2Bubuntu/home/adambuckingham/code/GSA/srt/srt-fbo-scraper/data/view_fy23_data.ipynb#X10sdnNjb2RlLXJlbW90ZQ%3D%3D?line=21'>22</a>\u001b[0m     attachment\u001b[39m.\u001b[39mappend(attachment_text)\n\u001b[0;32m---> <a href='vscode-notebook-cell://wsl%2Bubuntu/home/adambuckingham/code/GSA/srt/srt-fbo-scraper/data/view_fy23_data.ipynb#X10sdnNjb2RlLXJlbW90ZQ%3D%3D?line=22'>23</a>\u001b[0m     \u001b[39mif\u001b[39;00m \u001b[39many\u001b[39;49m(attachment_text\u001b[39m.\u001b[39;49mstr\u001b[39m.\u001b[39;49mcontains(word, na\u001b[39m=\u001b[39;49m\u001b[39mFalse\u001b[39;49;00m, case\u001b[39m=\u001b[39;49m\u001b[39mTrue\u001b[39;49;00m) \u001b[39mfor\u001b[39;49;00m word \u001b[39min\u001b[39;49;00m find):\n\u001b[1;32m     <a href='vscode-notebook-cell://wsl%2Bubuntu/home/adambuckingham/code/GSA/srt/srt-fbo-scraper/data/view_fy23_data.ipynb#X10sdnNjb2RlLXJlbW90ZQ%3D%3D?line=23'>24</a>\u001b[0m         label\u001b[39m.\u001b[39mappend(\u001b[39m'\u001b[39m\u001b[39mGREEN\u001b[39m\u001b[39m'\u001b[39m)\n\u001b[1;32m     <a href='vscode-notebook-cell://wsl%2Bubuntu/home/adambuckingham/code/GSA/srt/srt-fbo-scraper/data/view_fy23_data.ipynb#X10sdnNjb2RlLXJlbW90ZQ%3D%3D?line=24'>25</a>\u001b[0m     \u001b[39melse\u001b[39;00m:\n",
      "\u001b[1;32m/home/adambuckingham/code/GSA/srt/srt-fbo-scraper/data/view_fy23_data.ipynb Cell 8\u001b[0m line \u001b[0;36m2\n\u001b[1;32m     <a href='vscode-notebook-cell://wsl%2Bubuntu/home/adambuckingham/code/GSA/srt/srt-fbo-scraper/data/view_fy23_data.ipynb#X10sdnNjb2RlLXJlbW90ZQ%3D%3D?line=20'>21</a>\u001b[0m \u001b[39mif\u001b[39;00m attachment_text:\n\u001b[1;32m     <a href='vscode-notebook-cell://wsl%2Bubuntu/home/adambuckingham/code/GSA/srt/srt-fbo-scraper/data/view_fy23_data.ipynb#X10sdnNjb2RlLXJlbW90ZQ%3D%3D?line=21'>22</a>\u001b[0m     attachment\u001b[39m.\u001b[39mappend(attachment_text)\n\u001b[0;32m---> <a href='vscode-notebook-cell://wsl%2Bubuntu/home/adambuckingham/code/GSA/srt/srt-fbo-scraper/data/view_fy23_data.ipynb#X10sdnNjb2RlLXJlbW90ZQ%3D%3D?line=22'>23</a>\u001b[0m     \u001b[39mif\u001b[39;00m \u001b[39many\u001b[39m(attachment_text\u001b[39m.\u001b[39;49mstr\u001b[39m.\u001b[39mcontains(word, na\u001b[39m=\u001b[39m\u001b[39mFalse\u001b[39;00m, case\u001b[39m=\u001b[39m\u001b[39mTrue\u001b[39;00m) \u001b[39mfor\u001b[39;00m word \u001b[39min\u001b[39;00m find):\n\u001b[1;32m     <a href='vscode-notebook-cell://wsl%2Bubuntu/home/adambuckingham/code/GSA/srt/srt-fbo-scraper/data/view_fy23_data.ipynb#X10sdnNjb2RlLXJlbW90ZQ%3D%3D?line=23'>24</a>\u001b[0m         label\u001b[39m.\u001b[39mappend(\u001b[39m'\u001b[39m\u001b[39mGREEN\u001b[39m\u001b[39m'\u001b[39m)\n\u001b[1;32m     <a href='vscode-notebook-cell://wsl%2Bubuntu/home/adambuckingham/code/GSA/srt/srt-fbo-scraper/data/view_fy23_data.ipynb#X10sdnNjb2RlLXJlbW90ZQ%3D%3D?line=24'>25</a>\u001b[0m     \u001b[39melse\u001b[39;00m:\n",
      "\u001b[0;31mAttributeError\u001b[0m: 'str' object has no attribute 'str'"
     ]
    }
   ],
   "source": [
    "# Make CSV With Finding Revelant Key words in Attachment Text\n",
    "dict_to_df = {}\n",
    "attachment = []\n",
    "label = []\n",
    "#view = df.loc[df['solNum'] == '12905B23Q0221', 'attachment_text'].iloc[1]\n",
    "find = [\"Section 508\", \"Accessibility\", \"Rehabilitation Act of 1973\", \"accessibility\", \"section 508\",\n",
    "        \"rehabilitation act of 1973\", \"Section 508 is not required\", \"section 508 is not required\", \n",
    "        \"national security exemption\", \"National Security Exemption\", \"National security exemption\",\n",
    "        \"maintenance and monitoring spaces exception\", \"Maintenance and Monitoring Spaces Exception\",\n",
    "        \"fundamental alteration exception\", \"Fundamental Alteration Exception\", \"Fundamental alteration exception\",\n",
    "        \"federal contracts exception\", \"Federal Contracts Exception\", \"Federal contracts exception\",\n",
    "        \"undue burden exception\", \"Undue Burden Exception\", \"Undue burden exception\", \"undue burden\", \"Undue burden\",\n",
    "    ]\n",
    "\n",
    "#Lower Case Find Words:\n",
    "lower_find = [\n",
    "    \"section 508\", \"accessibility\", \"rehabilitation act of 1973\", \"section 508 is not required\",\n",
    "    \"national security exemption\", \"maintenance and monitoring spaces exception\",\n",
    "    \"fundamental alteration exception\", \"federal contracts exception\",\n",
    "    \"undue burden exception\", \"undue burden\"\n",
    "]\n",
    "\n",
    "# Dropping rows without attachment text\n",
    "df_drop = df.dropna(subset=['attachment_text'])\n",
    "for index, row in df_drop.iterrows():\n",
    "    attachment_text = row['attachment_text']\n",
    "    str_attachment = str(attachment_text)\n",
    "    if attachment_text:\n",
    "        attachment.append(attachment_text)\n",
    "        if any(word in str_attachment.lower() for word in lower_find):\n",
    "            label.append('GREEN')\n",
    "        else:\n",
    "            label.append('RED')\n",
    "    else:\n",
    "        continue\n",
    "        "
   ]
  },
  {
   "cell_type": "code",
   "execution_count": 18,
   "metadata": {},
   "outputs": [],
   "source": [
    "dict_to_df = dict(attachment=attachment, label=label)\n",
    "\n",
    "to_csv_df = pd.DataFrame(dict_to_df)\n",
    "\n",
    "to_csv_df.to_csv('fy23_training_labels.csv', index=False)"
   ]
  },
  {
   "cell_type": "code",
   "execution_count": 8,
   "metadata": {},
   "outputs": [],
   "source": [
    "df = pd.read_csv('fy23_training_labels.csv')\n",
    "# Split by 500 rows\n",
    "df1 = df.iloc[0:500]\n",
    "df2 = df.iloc[500:1000]\n",
    "df3 = df.iloc[1000:1500]\n",
    "df4 = df.iloc[1500:2000]\n",
    "df5 = df.iloc[2000:2500]\n",
    "df6 = df.iloc[2500:3000]\n",
    "df7 = df.iloc[3000:-1]\n",
    "\n",
    "\n",
    "df1.to_csv('fy23_training_labels_1.csv', index=False)\n",
    "df2.to_csv('fy23_training_labels_2.csv', index=False)\n",
    "df3.to_csv('fy23_training_labels_3.csv', index=False)\n",
    "df4.to_csv('fy23_training_labels_4.csv', index=False)\n",
    "df5.to_csv('fy23_training_labels_5.csv', index=False)\n",
    "df6.to_csv('fy23_training_labels_6.csv', index=False)\n",
    "df7.to_csv('fy23_training_labels_7.csv', index=False)"
   ]
  }
 ],
 "metadata": {
  "kernelspec": {
   "display_name": "Python 3 (ipykernel)",
   "language": "python",
   "name": "python3"
  },
  "language_info": {
   "codemirror_mode": {
    "name": "ipython",
    "version": 3
   },
   "file_extension": ".py",
   "mimetype": "text/x-python",
   "name": "python",
   "nbconvert_exporter": "python",
   "pygments_lexer": "ipython3",
   "version": "3.10.12"
  }
 },
 "nbformat": 4,
 "nbformat_minor": 5
}
