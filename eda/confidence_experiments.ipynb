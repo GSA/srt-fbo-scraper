{
 "cells": [
  {
   "cell_type": "code",
   "execution_count": 7,
   "metadata": {},
   "outputs": [],
   "source": [
    "import os\n",
    "import sys\n",
    "import pandas as pd\n",
    "import numpy as np\n",
    "from sklearn import metrics\n",
    "from sklearn.feature_selection import SelectKBest, chi2\n",
    "from sklearn.feature_extraction.text import TfidfVectorizer\n",
    "from sklearn.model_selection import train_test_split, RandomizedSearchCV\n",
    "from sklearn.linear_model import SGDClassifier\n",
    "from imblearn.pipeline import Pipeline\n",
    "import dill as pickle\n",
    "import warnings\n",
    "from pathlib import Path\n",
    "\n",
    "warnings.filterwarnings('ignore')\n",
    "\n",
    "import matplotlib.pyplot as plt\n",
    "%matplotlib inline\n",
    "\n",
    "# Allow import from parent directory (for utils for example)\n",
    "#sys.path.append(os.path.abspath(os.path.join('..')))\n",
    "import fbo_scraper.train as train\n",
    "from fbo_scraper.binaries import binary_path\n"
   ]
  },
  {
   "attachments": {},
   "cell_type": "markdown",
   "metadata": {},
   "source": [
    "# Import the Estimator and Take a Look"
   ]
  },
  {
   "cell_type": "code",
   "execution_count": 5,
   "metadata": {},
   "outputs": [
    {
     "ename": "ModuleNotFoundError",
     "evalue": "No module named 'sklearn.feature_selection.univariate_selection'",
     "output_type": "error",
     "traceback": [
      "\u001b[0;31m---------------------------------------------------------------------------\u001b[0m",
      "\u001b[0;31mModuleNotFoundError\u001b[0m                       Traceback (most recent call last)",
      "Cell \u001b[0;32mIn[5], line 1\u001b[0m\n\u001b[0;32m----> 1\u001b[0m estimator \u001b[39m=\u001b[39m pickle\u001b[39m.\u001b[39;49mload(\u001b[39mopen\u001b[39;49m(Path(binary_path, \u001b[39m'\u001b[39;49m\u001b[39mestimator.pkl\u001b[39;49m\u001b[39m'\u001b[39;49m),\u001b[39m'\u001b[39;49m\u001b[39mrb\u001b[39;49m\u001b[39m'\u001b[39;49m))\n",
      "File \u001b[0;32m~/code/GSA/srt/srt-fbo-scraper/.venv_310/lib/python3.10/site-packages/dill/_dill.py:272\u001b[0m, in \u001b[0;36mload\u001b[0;34m(file, ignore, **kwds)\u001b[0m\n\u001b[1;32m    266\u001b[0m \u001b[39mdef\u001b[39;00m \u001b[39mload\u001b[39m(file, ignore\u001b[39m=\u001b[39m\u001b[39mNone\u001b[39;00m, \u001b[39m*\u001b[39m\u001b[39m*\u001b[39mkwds):\n\u001b[1;32m    267\u001b[0m \u001b[39m    \u001b[39m\u001b[39m\"\"\"\u001b[39;00m\n\u001b[1;32m    268\u001b[0m \u001b[39m    Unpickle an object from a file.\u001b[39;00m\n\u001b[1;32m    269\u001b[0m \n\u001b[1;32m    270\u001b[0m \u001b[39m    See :func:`loads` for keyword arguments.\u001b[39;00m\n\u001b[1;32m    271\u001b[0m \u001b[39m    \"\"\"\u001b[39;00m\n\u001b[0;32m--> 272\u001b[0m     \u001b[39mreturn\u001b[39;00m Unpickler(file, ignore\u001b[39m=\u001b[39;49mignore, \u001b[39m*\u001b[39;49m\u001b[39m*\u001b[39;49mkwds)\u001b[39m.\u001b[39;49mload()\n",
      "File \u001b[0;32m~/code/GSA/srt/srt-fbo-scraper/.venv_310/lib/python3.10/site-packages/dill/_dill.py:419\u001b[0m, in \u001b[0;36mUnpickler.load\u001b[0;34m(self)\u001b[0m\n\u001b[1;32m    418\u001b[0m \u001b[39mdef\u001b[39;00m \u001b[39mload\u001b[39m(\u001b[39mself\u001b[39m): \u001b[39m#NOTE: if settings change, need to update attributes\u001b[39;00m\n\u001b[0;32m--> 419\u001b[0m     obj \u001b[39m=\u001b[39m StockUnpickler\u001b[39m.\u001b[39;49mload(\u001b[39mself\u001b[39;49m)\n\u001b[1;32m    420\u001b[0m     \u001b[39mif\u001b[39;00m \u001b[39mtype\u001b[39m(obj)\u001b[39m.\u001b[39m\u001b[39m__module__\u001b[39m \u001b[39m==\u001b[39m \u001b[39mgetattr\u001b[39m(_main_module, \u001b[39m'\u001b[39m\u001b[39m__name__\u001b[39m\u001b[39m'\u001b[39m, \u001b[39m'\u001b[39m\u001b[39m__main__\u001b[39m\u001b[39m'\u001b[39m):\n\u001b[1;32m    421\u001b[0m         \u001b[39mif\u001b[39;00m \u001b[39mnot\u001b[39;00m \u001b[39mself\u001b[39m\u001b[39m.\u001b[39m_ignore:\n\u001b[1;32m    422\u001b[0m             \u001b[39m# point obj class to main\u001b[39;00m\n",
      "File \u001b[0;32m~/code/GSA/srt/srt-fbo-scraper/.venv_310/lib/python3.10/site-packages/dill/_dill.py:409\u001b[0m, in \u001b[0;36mUnpickler.find_class\u001b[0;34m(self, module, name)\u001b[0m\n\u001b[1;32m    407\u001b[0m     \u001b[39mreturn\u001b[39;00m \u001b[39mtype\u001b[39m(\u001b[39mNone\u001b[39;00m) \u001b[39m#XXX: special case: NoneType missing\u001b[39;00m\n\u001b[1;32m    408\u001b[0m \u001b[39mif\u001b[39;00m module \u001b[39m==\u001b[39m \u001b[39m'\u001b[39m\u001b[39mdill.dill\u001b[39m\u001b[39m'\u001b[39m: module \u001b[39m=\u001b[39m \u001b[39m'\u001b[39m\u001b[39mdill._dill\u001b[39m\u001b[39m'\u001b[39m\n\u001b[0;32m--> 409\u001b[0m \u001b[39mreturn\u001b[39;00m StockUnpickler\u001b[39m.\u001b[39;49mfind_class(\u001b[39mself\u001b[39;49m, module, name)\n",
      "\u001b[0;31mModuleNotFoundError\u001b[0m: No module named 'sklearn.feature_selection.univariate_selection'"
     ]
    }
   ],
   "source": [
    "estimator = pickle.load(open(Path(binary_path, 'estimator.pkl'),'rb'))"
   ]
  },
  {
   "attachments": {},
   "cell_type": "markdown",
   "metadata": {},
   "source": [
    "By listing the estimator steps, we get the the details of the classifier pipeline with the best chosen hyperparameters. The estimator is a pipeline of:\n",
    "\n",
    " 1. a TF-IDF vectorizor (with L2 norm), \n",
    " 2. a KBest selector (top 2000), and \n",
    " 3. a stochastic gradient descent (SGD) classifier\n",
    "\n",
    "Because the SGD classifier uses a \"modified_huber\" loss function, it not only gives us predictions, but probabilities of fit. This could be useful to determine the confidence of the predictions (identifying a \"yellow\" zone) that could be communicated to users for details and reclassification."
   ]
  },
  {
   "cell_type": "code",
   "execution_count": 3,
   "metadata": {},
   "outputs": [
    {
     "data": {
      "text/plain": [
       "[('vectorizer',\n",
       "  TfidfVectorizer(analyzer='word', binary=False, decode_error='strict',\n",
       "                  dtype=<class 'numpy.int64'>, encoding='utf-8', input='content',\n",
       "                  lowercase=True, max_df=1.012474489021681, max_features=None,\n",
       "                  min_df=2, ngram_range=(1, 2), norm='l2', preprocessor=None,\n",
       "                  smooth_idf=True, stop_words='english', strip_accents=None,\n",
       "                  sublinear_tf=True, token_pattern='(?u)\\\\b\\\\w\\\\w+\\\\b',\n",
       "                  tokenizer=None, use_idf=True, vocabulary=None)),\n",
       " ('select', SelectKBest(k=2000, score_func=<function chi2 at 0x7f42f6fb4730>)),\n",
       " ('clf',\n",
       "  SGDClassifier(alpha=array([0.00156602]), average=False, class_weight='balanced',\n",
       "                early_stopping=None, epsilon=0.1, eta0=0.0, fit_intercept=True,\n",
       "                l1_ratio=0.15, learning_rate='optimal', loss='modified_huber',\n",
       "                max_iter=None, n_iter_no_change=None, n_jobs=1,\n",
       "                penalty='elasticnet', power_t=0.5, random_state=None,\n",
       "                shuffle=True, tol=None, validation_fraction=None, verbose=0,\n",
       "                warm_start=False))]"
      ]
     },
     "execution_count": 3,
     "metadata": {},
     "output_type": "execute_result"
    }
   ],
   "source": [
    "estimator.steps"
   ]
  },
  {
   "attachments": {},
   "cell_type": "markdown",
   "metadata": {},
   "source": [
    "As a quick sanity check, let's run the estimator on a couple of examples:"
   ]
  },
  {
   "cell_type": "code",
   "execution_count": 4,
   "metadata": {},
   "outputs": [
    {
     "data": {
      "text/plain": [
       "array([0, 1])"
      ]
     },
     "execution_count": 4,
     "metadata": {},
     "output_type": "execute_result"
    }
   ],
   "source": [
    "estimator.predict(['This is a bunch of words that do not mention what we want to capture',\n",
    "                   'This is another bunch of words but we care about Section 508 accessibility.'])"
   ]
  },
  {
   "attachments": {},
   "cell_type": "markdown",
   "metadata": {},
   "source": [
    "OK, that makes sense, but what about the cofidence of it being \"Green\" (1)?"
   ]
  },
  {
   "cell_type": "code",
   "execution_count": 5,
   "metadata": {},
   "outputs": [
    {
     "data": {
      "text/plain": [
       "array([0.27327843, 0.62025061])"
      ]
     },
     "execution_count": 5,
     "metadata": {},
     "output_type": "execute_result"
    }
   ],
   "source": [
    "estimator.predict_proba(['This is a bunch of words that do not mention what we want to capture',\n",
    "                         'This is another bunch of words but we care about Section 508 accessibility.'])[:,1]"
   ]
  },
  {
   "attachments": {},
   "cell_type": "markdown",
   "metadata": {},
   "source": [
    "So we're pretty sure that the first line is not GREEN, while the second one is \"kind of\" GREEN."
   ]
  },
  {
   "attachments": {},
   "cell_type": "markdown",
   "metadata": {},
   "source": [
    "Out of curiosity, what are the words (features) that have the most significance choosing between GREEN and RED? We can figure this out by pulling out the features and scores from the estimator steps:"
   ]
  },
  {
   "cell_type": "code",
   "execution_count": 6,
   "metadata": {},
   "outputs": [
    {
     "data": {
      "text/html": [
       "<div>\n",
       "<style scoped>\n",
       "    .dataframe tbody tr th:only-of-type {\n",
       "        vertical-align: middle;\n",
       "    }\n",
       "\n",
       "    .dataframe tbody tr th {\n",
       "        vertical-align: top;\n",
       "    }\n",
       "\n",
       "    .dataframe thead th {\n",
       "        text-align: right;\n",
       "    }\n",
       "</style>\n",
       "<table border=\"1\" class=\"dataframe\">\n",
       "  <thead>\n",
       "    <tr style=\"text-align: right;\">\n",
       "      <th></th>\n",
       "      <th>features</th>\n",
       "      <th>coef</th>\n",
       "    </tr>\n",
       "  </thead>\n",
       "  <tbody>\n",
       "    <tr>\n",
       "      <td>1577</td>\n",
       "      <td>section 508</td>\n",
       "      <td>2.143648</td>\n",
       "    </tr>\n",
       "    <tr>\n",
       "      <td>1</td>\n",
       "      <td>508</td>\n",
       "      <td>2.119495</td>\n",
       "    </tr>\n",
       "    <tr>\n",
       "      <td>830</td>\n",
       "      <td>function perform</td>\n",
       "      <td>1.883782</td>\n",
       "    </tr>\n",
       "    <tr>\n",
       "      <td>1304</td>\n",
       "      <td>perform criteria</td>\n",
       "      <td>1.749019</td>\n",
       "    </tr>\n",
       "    <tr>\n",
       "      <td>1760</td>\n",
       "      <td>task order</td>\n",
       "      <td>1.524084</td>\n",
       "    </tr>\n",
       "    <tr>\n",
       "      <td>...</td>\n",
       "      <td>...</td>\n",
       "      <td>...</td>\n",
       "    </tr>\n",
       "    <tr>\n",
       "      <td>1974</td>\n",
       "      <td>wall</td>\n",
       "      <td>-0.411968</td>\n",
       "    </tr>\n",
       "    <tr>\n",
       "      <td>90</td>\n",
       "      <td>afb</td>\n",
       "      <td>-0.519698</td>\n",
       "    </tr>\n",
       "    <tr>\n",
       "      <td>274</td>\n",
       "      <td>cabl</td>\n",
       "      <td>-0.817065</td>\n",
       "    </tr>\n",
       "    <tr>\n",
       "      <td>99</td>\n",
       "      <td>air</td>\n",
       "      <td>-0.976992</td>\n",
       "    </tr>\n",
       "    <tr>\n",
       "      <td>100</td>\n",
       "      <td>air forc</td>\n",
       "      <td>-1.260464</td>\n",
       "    </tr>\n",
       "  </tbody>\n",
       "</table>\n",
       "<p>2000 rows × 2 columns</p>\n",
       "</div>"
      ],
      "text/plain": [
       "              features      coef\n",
       "1577       section 508  2.143648\n",
       "1                  508  2.119495\n",
       "830   function perform  1.883782\n",
       "1304  perform criteria  1.749019\n",
       "1760        task order  1.524084\n",
       "...                ...       ...\n",
       "1974              wall -0.411968\n",
       "90                 afb -0.519698\n",
       "274               cabl -0.817065\n",
       "99                 air -0.976992\n",
       "100           air forc -1.260464\n",
       "\n",
       "[2000 rows x 2 columns]"
      ]
     },
     "execution_count": 6,
     "metadata": {},
     "output_type": "execute_result"
    }
   ],
   "source": [
    "features = estimator.named_steps['vectorizer'].get_feature_names()\n",
    "mask = estimator.named_steps['select'].get_support()\n",
    "new_features = [ feature for bool, feature in zip (mask, features) if bool ]\n",
    "nf = pd.DataFrame({'features': new_features, 'coef': estimator.named_steps['clf'].coef_[0] })\n",
    "nf.sort_values(['coef'], ascending=0)"
   ]
  },
  {
   "attachments": {},
   "cell_type": "markdown",
   "metadata": {},
   "source": [
    "# Pull in the Labeled Data\n",
    "\n",
    "Let's pull in the labeled data from the pkl file. It looks like the estimator was trained off of the result of 80% of the labeled data (which is a great best practice because you can then double check your work on a 20% test set that was set aside)."
   ]
  },
  {
   "cell_type": "code",
   "execution_count": 2,
   "metadata": {},
   "outputs": [
    {
     "data": {
      "text/plain": [
       "993"
      ]
     },
     "execution_count": 2,
     "metadata": {},
     "output_type": "execute_result"
    }
   ],
   "source": [
    "attachments = pickle.load(open(Path(binary_path, 'train.pkl'),'rb'))\n",
    "len(attachments)"
   ]
  },
  {
   "cell_type": "code",
   "execution_count": 3,
   "metadata": {},
   "outputs": [
    {
     "data": {
      "text/plain": [
       "(993, 993)"
      ]
     },
     "execution_count": 3,
     "metadata": {},
     "output_type": "execute_result"
    }
   ],
   "source": [
    "# The following removes numbers (except 508) small and large words, stop words\n",
    "# and then uses the nltk porter stemmer on the text\n",
    "x,y = train.prepare_samples(attachments)\n",
    "len(x), len(y)"
   ]
  },
  {
   "cell_type": "code",
   "execution_count": 4,
   "metadata": {},
   "outputs": [
    {
     "data": {
      "text/plain": [
       "(794, 794, 199, 199)"
      ]
     },
     "execution_count": 4,
     "metadata": {},
     "output_type": "execute_result"
    }
   ],
   "source": [
    "# Now let's pull out the training and test sets the same way that\n",
    "# the training code appears to pull it out.\n",
    "x_train, x_test, y_train, y_test = train.train_test_split(x, y, stratify=y,\n",
    "                                                          test_size=0.2, random_state=123)\n",
    "len(x_train), len(y_train), len(x_test), len(y_test)"
   ]
  },
  {
   "attachments": {},
   "cell_type": "markdown",
   "metadata": {},
   "source": [
    "# Retrain the Model So We Have a Clean Test Set\n",
    "I ran the experiments below and discovered that the probability distributions and classification reports for the test and training sets were almost identical. So I have to conclude that I don't have a \"clean\" test set (that I have some overlap between the test set and the training set used to create the estimator). So to make the test set clean, let me re-train the estimator on the training set."
   ]
  },
  {
   "cell_type": "code",
   "execution_count": 12,
   "metadata": {},
   "outputs": [
    {
     "data": {
      "text/plain": [
       "[('vectorizer',\n",
       "  TfidfVectorizer(max_df=0.95, min_df=2, ngram_range=(1, 2), stop_words='english',\n",
       "                  sublinear_tf=True)),\n",
       " ('select', SelectKBest(k=2000, score_func=<function chi2 at 0x7f2d79a71c60>)),\n",
       " ('clf',\n",
       "  SGDClassifier(alpha=0.00156602, class_weight='balanced', loss='modified_huber'))]"
      ]
     },
     "execution_count": 12,
     "metadata": {},
     "output_type": "execute_result"
    }
   ],
   "source": [
    "estimator = Pipeline([('vectorizer', \n",
    "                       TfidfVectorizer(stop_words='english', ngram_range=(1, 2),\n",
    "                                       min_df=2, max_df=0.95,\n",
    "                                       norm='l2', sublinear_tf=True)),\n",
    "                     ('select', SelectKBest(chi2, k=2000)),\n",
    "                     ('clf', SGDClassifier(class_weight = 'balanced', \n",
    "                                           alpha=0.00156602,\n",
    "                                           loss='modified_huber'))])\n",
    "estimator.steps\n"
   ]
  },
  {
   "cell_type": "code",
   "execution_count": 13,
   "metadata": {},
   "outputs": [],
   "source": [
    "estimator.fit(x_train, y_train);"
   ]
  },
  {
   "attachments": {},
   "cell_type": "markdown",
   "metadata": {},
   "source": [
    "Re-run our earlier examples:"
   ]
  },
  {
   "cell_type": "code",
   "execution_count": 14,
   "metadata": {},
   "outputs": [
    {
     "data": {
      "text/plain": [
       "array([0, 1])"
      ]
     },
     "execution_count": 14,
     "metadata": {},
     "output_type": "execute_result"
    }
   ],
   "source": [
    "estimator.predict(['This is a bunch of words that do not mention what we want to capture',\n",
    "                   'This is another bunch of words but we care about Section 508 accessibility.'])"
   ]
  },
  {
   "cell_type": "code",
   "execution_count": 15,
   "metadata": {},
   "outputs": [
    {
     "data": {
      "text/plain": [
       "array([0.2660059 , 0.57182647])"
      ]
     },
     "execution_count": 15,
     "metadata": {},
     "output_type": "execute_result"
    }
   ],
   "source": [
    "estimator.predict_proba(['This is a bunch of words that do not mention what we want to capture',\n",
    "                         'This is another bunch of words but we care about Section 508 accessibility.'])[:,1]"
   ]
  },
  {
   "attachments": {},
   "cell_type": "markdown",
   "metadata": {},
   "source": [
    "Because I re-trained, did my selected K features change?"
   ]
  },
  {
   "cell_type": "code",
   "execution_count": 19,
   "metadata": {},
   "outputs": [
    {
     "data": {
      "text/html": [
       "<div>\n",
       "<style scoped>\n",
       "    .dataframe tbody tr th:only-of-type {\n",
       "        vertical-align: middle;\n",
       "    }\n",
       "\n",
       "    .dataframe tbody tr th {\n",
       "        vertical-align: top;\n",
       "    }\n",
       "\n",
       "    .dataframe thead th {\n",
       "        text-align: right;\n",
       "    }\n",
       "</style>\n",
       "<table border=\"1\" class=\"dataframe\">\n",
       "  <thead>\n",
       "    <tr style=\"text-align: right;\">\n",
       "      <th></th>\n",
       "      <th>features</th>\n",
       "      <th>coef</th>\n",
       "    </tr>\n",
       "  </thead>\n",
       "  <tbody>\n",
       "    <tr>\n",
       "      <th>1581</th>\n",
       "      <td>section 508</td>\n",
       "      <td>1.898106</td>\n",
       "    </tr>\n",
       "    <tr>\n",
       "      <th>1</th>\n",
       "      <td>508</td>\n",
       "      <td>1.859217</td>\n",
       "    </tr>\n",
       "    <tr>\n",
       "      <th>824</th>\n",
       "      <td>function perform</td>\n",
       "      <td>1.570113</td>\n",
       "    </tr>\n",
       "    <tr>\n",
       "      <th>1303</th>\n",
       "      <td>perform criteria</td>\n",
       "      <td>1.473813</td>\n",
       "    </tr>\n",
       "    <tr>\n",
       "      <th>1768</th>\n",
       "      <td>task order</td>\n",
       "      <td>1.466694</td>\n",
       "    </tr>\n",
       "    <tr>\n",
       "      <th>...</th>\n",
       "      <td>...</td>\n",
       "      <td>...</td>\n",
       "    </tr>\n",
       "    <tr>\n",
       "      <th>1983</th>\n",
       "      <td>wall</td>\n",
       "      <td>-0.392597</td>\n",
       "    </tr>\n",
       "    <tr>\n",
       "      <th>90</th>\n",
       "      <td>afb</td>\n",
       "      <td>-0.544311</td>\n",
       "    </tr>\n",
       "    <tr>\n",
       "      <th>276</th>\n",
       "      <td>cabl</td>\n",
       "      <td>-0.701556</td>\n",
       "    </tr>\n",
       "    <tr>\n",
       "      <th>99</th>\n",
       "      <td>air</td>\n",
       "      <td>-0.917128</td>\n",
       "    </tr>\n",
       "    <tr>\n",
       "      <th>100</th>\n",
       "      <td>air forc</td>\n",
       "      <td>-1.115129</td>\n",
       "    </tr>\n",
       "  </tbody>\n",
       "</table>\n",
       "<p>2000 rows × 2 columns</p>\n",
       "</div>"
      ],
      "text/plain": [
       "              features      coef\n",
       "1581       section 508  1.898106\n",
       "1                  508  1.859217\n",
       "824   function perform  1.570113\n",
       "1303  perform criteria  1.473813\n",
       "1768        task order  1.466694\n",
       "...                ...       ...\n",
       "1983              wall -0.392597\n",
       "90                 afb -0.544311\n",
       "276               cabl -0.701556\n",
       "99                 air -0.917128\n",
       "100           air forc -1.115129\n",
       "\n",
       "[2000 rows x 2 columns]"
      ]
     },
     "execution_count": 19,
     "metadata": {},
     "output_type": "execute_result"
    }
   ],
   "source": [
    "features = estimator.named_steps['vectorizer'].get_feature_names_out()\n",
    "mask = estimator.named_steps['select'].get_support()\n",
    "new_features = [ feature for bool, feature in zip (mask, features) if bool ]\n",
    "nf = pd.DataFrame({'features': new_features, 'coef': estimator.named_steps['clf'].coef_[0] })\n",
    "nf.sort_values(['coef'], ascending=0)"
   ]
  },
  {
   "attachments": {},
   "cell_type": "markdown",
   "metadata": {},
   "source": [
    "Slightly different coefficients, so it looks like I have slightly different training data or paramters. But overall they didn't change too much. So I should be able to use this to look at the confidence of the predictions."
   ]
  },
  {
   "attachments": {},
   "cell_type": "markdown",
   "metadata": {},
   "source": [
    "# So, How Confident are the Predictions?\n",
    "Let's create a histogram of the probability of predicting GREEN (1)"
   ]
  },
  {
   "cell_type": "code",
   "execution_count": 20,
   "metadata": {},
   "outputs": [],
   "source": [
    "test_prob = estimator.predict_proba(x_test)[:,1]"
   ]
  },
  {
   "cell_type": "code",
   "execution_count": 21,
   "metadata": {},
   "outputs": [
    {
     "data": {
      "text/plain": [
       "array([10.,  1.,  0.,  0.,  6., 33., 39., 26., 23., 11., 14.,  2.,  6.,\n",
       "        2.,  3.,  0.,  5.,  3.,  2., 13.])"
      ]
     },
     "execution_count": 21,
     "metadata": {},
     "output_type": "execute_result"
    },
    {
     "data": {
      "image/png": "[encoded data removed]",
      "text/plain": [
       "<Figure size 640x480 with 1 Axes>"
      ]
     },
     "metadata": {},
     "output_type": "display_data"
    }
   ],
   "source": [
    "bins = 20\n",
    "n, b, patches = plt.hist(x=test_prob, bins=bins)\n",
    "plt.grid(axis='y', alpha=0.75)\n",
    "plt.xlabel('Probability')\n",
    "plt.ylabel('Frequency')\n",
    "plt.title('Probability Distribution of Test Set')\n",
    "n"
   ]
  },
  {
   "attachments": {},
   "cell_type": "markdown",
   "metadata": {},
   "source": [
    "That is an interesting clump around 0.3-0.35, but there is a significant amount in the 0.4-0.6 range...\n",
    "\n",
    "What about the training set?"
   ]
  },
  {
   "cell_type": "code",
   "execution_count": 22,
   "metadata": {},
   "outputs": [],
   "source": [
    "train_prob = estimator.predict_proba(x_train)[:,1]"
   ]
  },
  {
   "cell_type": "code",
   "execution_count": 23,
   "metadata": {},
   "outputs": [
    {
     "data": {
      "text/plain": [
       "array([ 41.,   0.,   2.,   3.,  20., 172., 135.,  96.,  80.,  48.,  47.,\n",
       "        25.,  18.,  15.,  12.,  13.,   5.,   8.,  11.,  43.])"
      ]
     },
     "execution_count": 23,
     "metadata": {},
     "output_type": "execute_result"
    },
    {
     "data": {
      "image/png": "[encoded data removed]",
      "text/plain": [
       "<Figure size 640x480 with 1 Axes>"
      ]
     },
     "metadata": {},
     "output_type": "display_data"
    }
   ],
   "source": [
    "bins = 20\n",
    "n, b, patches = plt.hist(x=train_prob, bins=bins)\n",
    "plt.grid(axis='y', alpha=0.75)\n",
    "plt.xlabel('Probability')\n",
    "plt.ylabel('Frequency')\n",
    "plt.title('Probability Distribution of Training Set')\n",
    "n"
   ]
  },
  {
   "attachments": {},
   "cell_type": "markdown",
   "metadata": {},
   "source": [
    "So comparing the distributions of the training and test sets, they are similar, but the test set has more of a \"clump\" in the 0.4-0.6 range, which means there is more to \"learn\" as expected.  But this also means that we can use predict_proba to identify this \"yellow\" or inconclusive set of predictions."
   ]
  },
  {
   "attachments": {},
   "cell_type": "markdown",
   "metadata": {},
   "source": [
    "# Quick Sanity Check\n",
    "Let's do a sanity check by doing the predictions and calculating the classification report"
   ]
  },
  {
   "cell_type": "code",
   "execution_count": 24,
   "metadata": {},
   "outputs": [],
   "source": [
    "y_pred = estimator.predict(x_test)"
   ]
  },
  {
   "cell_type": "code",
   "execution_count": 25,
   "metadata": {},
   "outputs": [
    {
     "name": "stdout",
     "output_type": "stream",
     "text": [
      "              precision    recall  f1-score   support\n",
      "\n",
      "         red       0.89      0.92      0.90       145\n",
      "       green       0.76      0.70      0.73        54\n",
      "\n",
      "    accuracy                           0.86       199\n",
      "   macro avg       0.83      0.81      0.82       199\n",
      "weighted avg       0.86      0.86      0.86       199\n",
      "\n"
     ]
    }
   ],
   "source": [
    "print(metrics.classification_report(y_test, y_pred, target_names=['red', 'green']))"
   ]
  },
  {
   "cell_type": "code",
   "execution_count": 26,
   "metadata": {},
   "outputs": [],
   "source": [
    "y_train_pred = estimator.predict(x_train)"
   ]
  },
  {
   "cell_type": "code",
   "execution_count": 27,
   "metadata": {},
   "outputs": [
    {
     "name": "stdout",
     "output_type": "stream",
     "text": [
      "              precision    recall  f1-score   support\n",
      "\n",
      "         red       0.92      0.95      0.93       577\n",
      "       green       0.85      0.77      0.81       217\n",
      "\n",
      "    accuracy                           0.90       794\n",
      "   macro avg       0.88      0.86      0.87       794\n",
      "weighted avg       0.90      0.90      0.90       794\n",
      "\n"
     ]
    }
   ],
   "source": [
    "print(metrics.classification_report(y_train, y_train_pred, target_names=['red', 'green']))"
   ]
  },
  {
   "attachments": {},
   "cell_type": "markdown",
   "metadata": {},
   "source": [
    "Good, my training set performed better than my test set (so I can be more confident that it is a \"clean\" test set and that my analysis above is valid)"
   ]
  },
  {
   "cell_type": "code",
   "execution_count": 28,
   "metadata": {},
   "outputs": [],
   "source": [
    "# Dump New Estimator Model \n",
    "\n",
    "train.pickle_model(estimator)"
   ]
  },
  {
   "attachments": {},
   "cell_type": "markdown",
   "metadata": {},
   "source": [
    "# Utilizing the train.train functionality"
   ]
  },
  {
   "attachments": {},
   "cell_type": "markdown",
   "metadata": {},
   "source": [
    "Getting the \"Best Estimator\""
   ]
  },
  {
   "cell_type": "code",
   "execution_count": 8,
   "metadata": {},
   "outputs": [],
   "source": [
    "# Running train.train to see results with default parameters\n",
    "\n",
    "random_state = 123\n",
    "score='roc_auc'\n",
    "n_iter_search = 500\n",
    "\n",
    "clf = SGDClassifier(class_weight = 'balanced')\n",
    "\n",
    "scoring = {'accuracy': metrics.make_scorer(metrics.accuracy_score),\n",
    "               'roc_auc': metrics.make_scorer(metrics.roc_auc_score),\n",
    "               'precision': metrics.make_scorer(metrics.average_precision_score),\n",
    "               'fbeta':metrics.make_scorer(metrics.fbeta_score,beta=.5),\n",
    "               'recall':metrics.make_scorer(metrics.recall_score)}\n",
    "\n",
    "pipe = Pipeline([('vectorizer', TfidfVectorizer(stop_words='english')),\n",
    "                        ('select', SelectKBest(chi2)),\n",
    "                        ('clf', clf)])\n",
    "\n",
    "param_dist = train.get_param_distribution()\n",
    "\n",
    "random_search = RandomizedSearchCV(pipe,\n",
    "                                       param_distributions = param_dist,\n",
    "                                       scoring = scoring,\n",
    "                                       refit = score,\n",
    "                                       n_iter = n_iter_search,\n",
    "                                       cv = 5,\n",
    "                                       n_jobs = -1,\n",
    "                                       verbose = 1,\n",
    "                                       random_state = random_state)\n"
   ]
  },
  {
   "attachments": {},
   "cell_type": "markdown",
   "metadata": {},
   "source": [
    "# Random Search Fit"
   ]
  },
  {
   "cell_type": "code",
   "execution_count": 10,
   "metadata": {},
   "outputs": [
    {
     "ename": "KeyboardInterrupt",
     "evalue": "",
     "output_type": "error",
     "traceback": [
      "\u001b[0;31m---------------------------------------------------------------------------\u001b[0m",
      "\u001b[0;31mKeyboardInterrupt\u001b[0m                         Traceback (most recent call last)",
      "Cell \u001b[0;32mIn[10], line 1\u001b[0m\n\u001b[0;32m----> 1\u001b[0m random_search\u001b[39m.\u001b[39;49mfit(x_train, y_train)\n\u001b[1;32m      3\u001b[0m y_pred \u001b[39m=\u001b[39m random_search\u001b[39m.\u001b[39mpredict(x_test)\n\u001b[1;32m      4\u001b[0m \u001b[39m#get the col number of the positive class (i.e. green)\u001b[39;00m\n",
      "File \u001b[0;32m~/code/GSA/srt/srt-fbo-scraper/.venv_310/lib/python3.10/site-packages/sklearn/model_selection/_search.py:874\u001b[0m, in \u001b[0;36mBaseSearchCV.fit\u001b[0;34m(self, X, y, groups, **fit_params)\u001b[0m\n\u001b[1;32m    868\u001b[0m     results \u001b[39m=\u001b[39m \u001b[39mself\u001b[39m\u001b[39m.\u001b[39m_format_results(\n\u001b[1;32m    869\u001b[0m         all_candidate_params, n_splits, all_out, all_more_results\n\u001b[1;32m    870\u001b[0m     )\n\u001b[1;32m    872\u001b[0m     \u001b[39mreturn\u001b[39;00m results\n\u001b[0;32m--> 874\u001b[0m \u001b[39mself\u001b[39;49m\u001b[39m.\u001b[39;49m_run_search(evaluate_candidates)\n\u001b[1;32m    876\u001b[0m \u001b[39m# multimetric is determined here because in the case of a callable\u001b[39;00m\n\u001b[1;32m    877\u001b[0m \u001b[39m# self.scoring the return type is only known after calling\u001b[39;00m\n\u001b[1;32m    878\u001b[0m first_test_score \u001b[39m=\u001b[39m all_out[\u001b[39m0\u001b[39m][\u001b[39m\"\u001b[39m\u001b[39mtest_scores\u001b[39m\u001b[39m\"\u001b[39m]\n",
      "File \u001b[0;32m~/code/GSA/srt/srt-fbo-scraper/.venv_310/lib/python3.10/site-packages/sklearn/model_selection/_search.py:1768\u001b[0m, in \u001b[0;36mRandomizedSearchCV._run_search\u001b[0;34m(self, evaluate_candidates)\u001b[0m\n\u001b[1;32m   1766\u001b[0m \u001b[39mdef\u001b[39;00m \u001b[39m_run_search\u001b[39m(\u001b[39mself\u001b[39m, evaluate_candidates):\n\u001b[1;32m   1767\u001b[0m \u001b[39m    \u001b[39m\u001b[39m\"\"\"Search n_iter candidates from param_distributions\"\"\"\u001b[39;00m\n\u001b[0;32m-> 1768\u001b[0m     evaluate_candidates(\n\u001b[1;32m   1769\u001b[0m         ParameterSampler(\n\u001b[1;32m   1770\u001b[0m             \u001b[39mself\u001b[39;49m\u001b[39m.\u001b[39;49mparam_distributions, \u001b[39mself\u001b[39;49m\u001b[39m.\u001b[39;49mn_iter, random_state\u001b[39m=\u001b[39;49m\u001b[39mself\u001b[39;49m\u001b[39m.\u001b[39;49mrandom_state\n\u001b[1;32m   1771\u001b[0m         )\n\u001b[1;32m   1772\u001b[0m     )\n",
      "File \u001b[0;32m~/code/GSA/srt/srt-fbo-scraper/.venv_310/lib/python3.10/site-packages/sklearn/model_selection/_search.py:810\u001b[0m, in \u001b[0;36mBaseSearchCV.fit.<locals>.evaluate_candidates\u001b[0;34m(candidate_params, cv, more_results)\u001b[0m\n\u001b[1;32m    808\u001b[0m \u001b[39mdef\u001b[39;00m \u001b[39mevaluate_candidates\u001b[39m(candidate_params, cv\u001b[39m=\u001b[39m\u001b[39mNone\u001b[39;00m, more_results\u001b[39m=\u001b[39m\u001b[39mNone\u001b[39;00m):\n\u001b[1;32m    809\u001b[0m     cv \u001b[39m=\u001b[39m cv \u001b[39mor\u001b[39;00m cv_orig\n\u001b[0;32m--> 810\u001b[0m     candidate_params \u001b[39m=\u001b[39m \u001b[39mlist\u001b[39;49m(candidate_params)\n\u001b[1;32m    811\u001b[0m     n_candidates \u001b[39m=\u001b[39m \u001b[39mlen\u001b[39m(candidate_params)\n\u001b[1;32m    813\u001b[0m     \u001b[39mif\u001b[39;00m \u001b[39mself\u001b[39m\u001b[39m.\u001b[39mverbose \u001b[39m>\u001b[39m \u001b[39m0\u001b[39m:\n",
      "File \u001b[0;32m~/code/GSA/srt/srt-fbo-scraper/.venv_310/lib/python3.10/site-packages/sklearn/model_selection/_search.py:323\u001b[0m, in \u001b[0;36mParameterSampler.__iter__\u001b[0;34m(self)\u001b[0m\n\u001b[1;32m    321\u001b[0m \u001b[39mfor\u001b[39;00m k, v \u001b[39min\u001b[39;00m items:\n\u001b[1;32m    322\u001b[0m     \u001b[39mif\u001b[39;00m \u001b[39mhasattr\u001b[39m(v, \u001b[39m\"\u001b[39m\u001b[39mrvs\u001b[39m\u001b[39m\"\u001b[39m):\n\u001b[0;32m--> 323\u001b[0m         params[k] \u001b[39m=\u001b[39m v\u001b[39m.\u001b[39;49mrvs(random_state\u001b[39m=\u001b[39;49mrng)\n\u001b[1;32m    324\u001b[0m     \u001b[39melse\u001b[39;00m:\n\u001b[1;32m    325\u001b[0m         params[k] \u001b[39m=\u001b[39m v[rng\u001b[39m.\u001b[39mrandint(\u001b[39mlen\u001b[39m(v))]\n",
      "File \u001b[0;32m~/code/GSA/srt/srt-fbo-scraper/src/fbo_scraper/train.py:41\u001b[0m, in \u001b[0;36mlog_uniform.rvs\u001b[0;34m(self, size, random_state)\u001b[0m\n\u001b[1;32m     40\u001b[0m \u001b[39mdef\u001b[39;00m \u001b[39mrvs\u001b[39m(\u001b[39mself\u001b[39m, size\u001b[39m=\u001b[39m\u001b[39m1\u001b[39m, random_state\u001b[39m=\u001b[39m\u001b[39mNone\u001b[39;00m):\n\u001b[0;32m---> 41\u001b[0m     uniform \u001b[39m=\u001b[39m stats\u001b[39m.\u001b[39;49muniform(loc\u001b[39m=\u001b[39;49m\u001b[39mself\u001b[39;49m\u001b[39m.\u001b[39;49mloc, scale\u001b[39m=\u001b[39;49m\u001b[39mself\u001b[39;49m\u001b[39m.\u001b[39;49mscale)\n\u001b[1;32m     43\u001b[0m     \u001b[39mreturn\u001b[39;00m np\u001b[39m.\u001b[39mpower(\u001b[39mself\u001b[39m\u001b[39m.\u001b[39mbase, uniform\u001b[39m.\u001b[39mrvs(size\u001b[39m=\u001b[39msize, random_state\u001b[39m=\u001b[39mrandom_state))\n",
      "File \u001b[0;32m~/code/GSA/srt/srt-fbo-scraper/.venv_310/lib/python3.10/site-packages/scipy/stats/_distn_infrastructure.py:829\u001b[0m, in \u001b[0;36mrv_generic.__call__\u001b[0;34m(self, *args, **kwds)\u001b[0m\n\u001b[1;32m    828\u001b[0m \u001b[39mdef\u001b[39;00m \u001b[39m__call__\u001b[39m(\u001b[39mself\u001b[39m, \u001b[39m*\u001b[39margs, \u001b[39m*\u001b[39m\u001b[39m*\u001b[39mkwds):\n\u001b[0;32m--> 829\u001b[0m     \u001b[39mreturn\u001b[39;00m \u001b[39mself\u001b[39;49m\u001b[39m.\u001b[39;49mfreeze(\u001b[39m*\u001b[39;49margs, \u001b[39m*\u001b[39;49m\u001b[39m*\u001b[39;49mkwds)\n",
      "File \u001b[0;32m~/code/GSA/srt/srt-fbo-scraper/.venv_310/lib/python3.10/site-packages/scipy/stats/_distn_infrastructure.py:824\u001b[0m, in \u001b[0;36mrv_generic.freeze\u001b[0;34m(self, *args, **kwds)\u001b[0m\n\u001b[1;32m    809\u001b[0m \u001b[39m\u001b[39m\u001b[39m\"\"\"Freeze the distribution for the given arguments.\u001b[39;00m\n\u001b[1;32m    810\u001b[0m \n\u001b[1;32m    811\u001b[0m \u001b[39mParameters\u001b[39;00m\n\u001b[0;32m   (...)\u001b[0m\n\u001b[1;32m    821\u001b[0m \n\u001b[1;32m    822\u001b[0m \u001b[39m\"\"\"\u001b[39;00m\n\u001b[1;32m    823\u001b[0m \u001b[39mif\u001b[39;00m \u001b[39misinstance\u001b[39m(\u001b[39mself\u001b[39m, rv_continuous):\n\u001b[0;32m--> 824\u001b[0m     \u001b[39mreturn\u001b[39;00m rv_continuous_frozen(\u001b[39mself\u001b[39;49m, \u001b[39m*\u001b[39;49margs, \u001b[39m*\u001b[39;49m\u001b[39m*\u001b[39;49mkwds)\n\u001b[1;32m    825\u001b[0m \u001b[39melse\u001b[39;00m:\n\u001b[1;32m    826\u001b[0m     \u001b[39mreturn\u001b[39;00m rv_discrete_frozen(\u001b[39mself\u001b[39m, \u001b[39m*\u001b[39margs, \u001b[39m*\u001b[39m\u001b[39m*\u001b[39mkwds)\n",
      "File \u001b[0;32m~/code/GSA/srt/srt-fbo-scraper/.venv_310/lib/python3.10/site-packages/scipy/stats/_distn_infrastructure.py:440\u001b[0m, in \u001b[0;36mrv_frozen.__init__\u001b[0;34m(self, dist, *args, **kwds)\u001b[0m\n\u001b[1;32m    437\u001b[0m \u001b[39mself\u001b[39m\u001b[39m.\u001b[39mkwds \u001b[39m=\u001b[39m kwds\n\u001b[1;32m    439\u001b[0m \u001b[39m# create a new instance\u001b[39;00m\n\u001b[0;32m--> 440\u001b[0m \u001b[39mself\u001b[39m\u001b[39m.\u001b[39mdist \u001b[39m=\u001b[39m dist\u001b[39m.\u001b[39;49m\u001b[39m__class__\u001b[39;49m(\u001b[39m*\u001b[39;49m\u001b[39m*\u001b[39;49mdist\u001b[39m.\u001b[39;49m_updated_ctor_param())\n\u001b[1;32m    442\u001b[0m shapes, _, _ \u001b[39m=\u001b[39m \u001b[39mself\u001b[39m\u001b[39m.\u001b[39mdist\u001b[39m.\u001b[39m_parse_args(\u001b[39m*\u001b[39margs, \u001b[39m*\u001b[39m\u001b[39m*\u001b[39mkwds)\n\u001b[1;32m    443\u001b[0m \u001b[39mself\u001b[39m\u001b[39m.\u001b[39ma, \u001b[39mself\u001b[39m\u001b[39m.\u001b[39mb \u001b[39m=\u001b[39m \u001b[39mself\u001b[39m\u001b[39m.\u001b[39mdist\u001b[39m.\u001b[39m_get_support(\u001b[39m*\u001b[39mshapes)\n",
      "File \u001b[0;32m~/code/GSA/srt/srt-fbo-scraper/.venv_310/lib/python3.10/site-packages/scipy/stats/_distn_infrastructure.py:1954\u001b[0m, in \u001b[0;36mrv_continuous.__init__\u001b[0;34m(self, momtype, a, b, xtol, badvalue, name, longname, shapes, extradoc, seed)\u001b[0m\n\u001b[1;32m   1952\u001b[0m \u001b[39melse\u001b[39;00m:\n\u001b[1;32m   1953\u001b[0m     dct \u001b[39m=\u001b[39m \u001b[39mdict\u001b[39m(distcont)\n\u001b[0;32m-> 1954\u001b[0m     \u001b[39mself\u001b[39;49m\u001b[39m.\u001b[39;49m_construct_doc(docdict, dct\u001b[39m.\u001b[39;49mget(\u001b[39mself\u001b[39;49m\u001b[39m.\u001b[39;49mname))\n",
      "File \u001b[0;32m~/code/GSA/srt/srt-fbo-scraper/.venv_310/lib/python3.10/site-packages/scipy/stats/_distn_infrastructure.py:785\u001b[0m, in \u001b[0;36mrv_generic._construct_doc\u001b[0;34m(self, docdict, shapes_vals)\u001b[0m\n\u001b[1;32m    783\u001b[0m     \u001b[39mself\u001b[39m\u001b[39m.\u001b[39m\u001b[39m__doc__\u001b[39m \u001b[39m=\u001b[39m \u001b[39mself\u001b[39m\u001b[39m.\u001b[39m\u001b[39m__doc__\u001b[39m\u001b[39m.\u001b[39mreplace(\u001b[39m\"\u001b[39m\u001b[39m%(shapes)s\u001b[39;00m\u001b[39m, \u001b[39m\u001b[39m\"\u001b[39m, \u001b[39m\"\u001b[39m\u001b[39m\"\u001b[39m)\n\u001b[1;32m    784\u001b[0m \u001b[39mtry\u001b[39;00m:\n\u001b[0;32m--> 785\u001b[0m     \u001b[39mself\u001b[39m\u001b[39m.\u001b[39m\u001b[39m__doc__\u001b[39m \u001b[39m=\u001b[39m doccer\u001b[39m.\u001b[39;49mdocformat(\u001b[39mself\u001b[39;49m\u001b[39m.\u001b[39;49m\u001b[39m__doc__\u001b[39;49m, tempdict)\n\u001b[1;32m    786\u001b[0m \u001b[39mexcept\u001b[39;00m \u001b[39mTypeError\u001b[39;00m \u001b[39mas\u001b[39;00m e:\n\u001b[1;32m    787\u001b[0m     \u001b[39mraise\u001b[39;00m \u001b[39mException\u001b[39;00m(\u001b[39m\"\u001b[39m\u001b[39mUnable to construct docstring for \u001b[39m\u001b[39m\"\u001b[39m\n\u001b[1;32m    788\u001b[0m                     \u001b[39m\"\u001b[39m\u001b[39mdistribution \u001b[39m\u001b[39m\\\"\u001b[39;00m\u001b[39m%s\u001b[39;00m\u001b[39m\\\"\u001b[39;00m\u001b[39m: \u001b[39m\u001b[39m%s\u001b[39;00m\u001b[39m\"\u001b[39m \u001b[39m%\u001b[39m\n\u001b[1;32m    789\u001b[0m                     (\u001b[39mself\u001b[39m\u001b[39m.\u001b[39mname, \u001b[39mrepr\u001b[39m(e))) \u001b[39mfrom\u001b[39;00m \u001b[39me\u001b[39;00m\n",
      "File \u001b[0;32m~/code/GSA/srt/srt-fbo-scraper/.venv_310/lib/python3.10/site-packages/scipy/_lib/doccer.py:65\u001b[0m, in \u001b[0;36mdocformat\u001b[0;34m(docstring, docdict)\u001b[0m\n\u001b[1;32m     63\u001b[0m     newlines \u001b[39m=\u001b[39m [lines[\u001b[39m0\u001b[39m]]\n\u001b[1;32m     64\u001b[0m     \u001b[39mfor\u001b[39;00m line \u001b[39min\u001b[39;00m lines[\u001b[39m1\u001b[39m:]:\n\u001b[0;32m---> 65\u001b[0m         newlines\u001b[39m.\u001b[39;49mappend(indent\u001b[39m+\u001b[39;49mline)\n\u001b[1;32m     66\u001b[0m     indented[name] \u001b[39m=\u001b[39m \u001b[39m'\u001b[39m\u001b[39m\\n\u001b[39;00m\u001b[39m'\u001b[39m\u001b[39m.\u001b[39mjoin(newlines)\n\u001b[1;32m     67\u001b[0m \u001b[39mexcept\u001b[39;00m \u001b[39mIndexError\u001b[39;00m:\n",
      "\u001b[0;31mKeyboardInterrupt\u001b[0m: "
     ]
    }
   ],
   "source": [
    "random_search.fit(x_train, y_train)\n",
    "\n",
    "y_pred = random_search.predict(x_test)\n",
    "#get the col number of the positive class (i.e. green)\n",
    "positive_class_col = list(random_search.classes_).index(1)\n",
    "try:\n",
    "    y_score = random_search.predict_proba(x_test)[:,positive_class_col]\n",
    "except AttributeError:\n",
    "    y_score = random_search.decision_function(x_test)\n",
    "average_precision = metrics.average_precision_score(y_test, y_score)\n",
    "acc = metrics.accuracy_score(y_test,y_pred)\n",
    "try:\n",
    "    roc_auc = metrics.roc_auc_score(y_test, y_pred)\n",
    "except ValueError:\n",
    "    roc_auc = None\n",
    "precisions, recalls, _ = metrics.precision_recall_curve(y_test, y_score)\n",
    "try:\n",
    "    auc = metrics.auc(recalls, precisions)\n",
    "except ValueError:\n",
    "    auc = None\n",
    "fbeta = metrics.fbeta_score(y_test,y_pred,beta=1.5)\n",
    "recall = metrics.recall_score(y_test,y_pred)\n",
    "best_estimator = random_search.best_estimator_\n",
    "best_params = random_search.best_params_\n",
    "best_score = random_search.best_score_\n",
    "result_values = [y_pred, y_score, precisions, recall, average_precision,\n",
    "                    acc, roc_auc, auc, fbeta, recalls, best_score, best_estimator, y_test]\n",
    "result_keys = ['y_pred', 'y_score', 'precisions', 'recall', 'average_precision',\n",
    "                'acc', 'roc_auc', 'auc', 'fbeta', 'recalls','best_score','best_estimator','y_test']\n",
    "results = {k:v for k,v in zip(result_keys,result_values)}"
   ]
  },
  {
   "attachments": {},
   "cell_type": "markdown",
   "metadata": {},
   "source": [
    "# So, How Confident are the Predictions?\n",
    "Let's create a histogram of the probability of predicting GREEN (1)"
   ]
  },
  {
   "cell_type": "code",
   "execution_count": null,
   "metadata": {},
   "outputs": [],
   "source": [
    "test_prob = best_estimator.predict_proba(x_test)[:,1]"
   ]
  },
  {
   "cell_type": "code",
   "execution_count": null,
   "metadata": {},
   "outputs": [],
   "source": [
    "bins = 20\n",
    "n, b, patches = plt.hist(x=test_prob, bins=bins)\n",
    "plt.grid(axis='y', alpha=0.75)\n",
    "plt.xlabel('Probability')\n",
    "plt.ylabel('Frequency')\n",
    "plt.title('Probability Distribution of Test Set')\n",
    "n"
   ]
  }
 ],
 "metadata": {
  "kernelspec": {
   "display_name": "Python 3",
   "language": "python",
   "name": "python3"
  },
  "language_info": {
   "codemirror_mode": {
    "name": "ipython",
    "version": 3
   },
   "file_extension": ".py",
   "mimetype": "text/x-python",
   "name": "python",
   "nbconvert_exporter": "python",
   "pygments_lexer": "ipython3",
   "version": "3.10.11"
  }
 },
 "nbformat": 4,
 "nbformat_minor": 4
}
