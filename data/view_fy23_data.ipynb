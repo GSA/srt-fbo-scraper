{
 "cells": [
  {
   "cell_type": "markdown",
   "id": "183215af",
   "metadata": {},
   "source": [
    "# View Attachmnet Data\n",
    "\n",
    "Use this as a guide to be able to view attachment data based on it's unique Solicitation Number. "
   ]
  },
  {
   "cell_type": "code",
   "execution_count": 2,
   "id": "32945dd6",
   "metadata": {},
   "outputs": [],
   "source": [
    "import pandas as pd\n",
    "import csv\n",
    "from IPython.display import display, HTML"
   ]
  },
  {
   "cell_type": "code",
   "execution_count": 3,
   "id": "b810ba70",
   "metadata": {},
   "outputs": [
    {
     "data": {
      "text/html": [
       "<div>\n",
       "<style scoped>\n",
       "    .dataframe tbody tr th:only-of-type {\n",
       "        vertical-align: middle;\n",
       "    }\n",
       "\n",
       "    .dataframe tbody tr th {\n",
       "        vertical-align: top;\n",
       "    }\n",
       "\n",
       "    .dataframe thead th {\n",
       "        text-align: right;\n",
       "    }\n",
       "</style>\n",
       "<table border=\"1\" class=\"dataframe\">\n",
       "  <thead>\n",
       "    <tr style=\"text-align: right;\">\n",
       "      <th></th>\n",
       "      <th>solNum</th>\n",
       "      <th>title</th>\n",
       "      <th>agency</th>\n",
       "      <th>office</th>\n",
       "      <th>createdAt</th>\n",
       "      <th>reviewRec</th>\n",
       "      <th>filename</th>\n",
       "      <th>attachment_url</th>\n",
       "      <th>machine_readable</th>\n",
       "      <th>prediction</th>\n",
       "      <th>decision_boundary</th>\n",
       "      <th>attachment_text</th>\n",
       "    </tr>\n",
       "  </thead>\n",
       "  <tbody>\n",
       "    <tr>\n",
       "      <th>0</th>\n",
       "      <td>RFQ1567650</td>\n",
       "      <td>Ssd Disintegrator</td>\n",
       "      <td>Department of Defense</td>\n",
       "      <td>DEPT OF THE AIR FORCE</td>\n",
       "      <td>2022-08-05 10:04:55.541839</td>\n",
       "      <td>Non-compliant (Action Required)</td>\n",
       "      <td>Statement of Need.pdf</td>\n",
       "      <td>https://sam.gov/api/prod/opps/v3/opportunities...</td>\n",
       "      <td>t</td>\n",
       "      <td>0</td>\n",
       "      <td>0.564459</td>\n",
       "      <td>Statement of Need\\n1. Purpose: Addition of SSD...</td>\n",
       "    </tr>\n",
       "    <tr>\n",
       "      <th>1</th>\n",
       "      <td>SPRHA4-23-Q-0405</td>\n",
       "      <td>Sprha4-23-Q-0405</td>\n",
       "      <td>Department of Defense</td>\n",
       "      <td>DEFENSE LOGISTICS AGENCY (DLA)</td>\n",
       "      <td>2023-03-02 10:22:30.392402</td>\n",
       "      <td>Non-compliant (Action Required)</td>\n",
       "      <td>EDL.pdf</td>\n",
       "      <td>https://sam.gov/api/prod/opps/v3/opportunities...</td>\n",
       "      <td>t</td>\n",
       "      <td>0</td>\n",
       "      <td>0.547941</td>\n",
       "      <td>REVISION: 2\\n\\n*HISTORY*\\n\\nENGINEERING DATA L...</td>\n",
       "    </tr>\n",
       "    <tr>\n",
       "      <th>2</th>\n",
       "      <td>SPRHA4-23-Q-0405</td>\n",
       "      <td>Sprha4-23-Q-0405</td>\n",
       "      <td>Department of Defense</td>\n",
       "      <td>DEFENSE LOGISTICS AGENCY (DLA)</td>\n",
       "      <td>2023-03-02 10:22:30.392402</td>\n",
       "      <td>Non-compliant (Action Required)</td>\n",
       "      <td>SOW.pdf</td>\n",
       "      <td>https://sam.gov/api/prod/opps/v3/opportunities...</td>\n",
       "      <td>t</td>\n",
       "      <td>0</td>\n",
       "      <td>0.549131</td>\n",
       "      <td>406 SCMS/GULAA-Hill\\n\\nOctober 1, 2015\\n\\nStat...</td>\n",
       "    </tr>\n",
       "    <tr>\n",
       "      <th>3</th>\n",
       "      <td>SPRHA4-23-Q-0405</td>\n",
       "      <td>Sprha4-23-Q-0405</td>\n",
       "      <td>Department of Defense</td>\n",
       "      <td>DEFENSE LOGISTICS AGENCY (DLA)</td>\n",
       "      <td>2023-03-02 10:22:30.392402</td>\n",
       "      <td>Non-compliant (Action Required)</td>\n",
       "      <td>SQS .pdf</td>\n",
       "      <td>https://sam.gov/api/prod/opps/v3/opportunities...</td>\n",
       "      <td>t</td>\n",
       "      <td>0</td>\n",
       "      <td>0.404582</td>\n",
       "      <td>MANUFACTURING QUALIFICATION REQUIREMENTS\\n6685...</td>\n",
       "    </tr>\n",
       "    <tr>\n",
       "      <th>4</th>\n",
       "      <td>191NLE23Q0015</td>\n",
       "      <td>Gas Chromatographs</td>\n",
       "      <td>Department of State</td>\n",
       "      <td>STATE, DEPARTMENT OF</td>\n",
       "      <td>2023-02-28 10:22:42.937648</td>\n",
       "      <td>Non-compliant (Action Required)</td>\n",
       "      <td>SOW Gas Chromatograph.pdf</td>\n",
       "      <td>https://sam.gov/api/prod/opps/v3/opportunities...</td>\n",
       "      <td>t</td>\n",
       "      <td>0</td>\n",
       "      <td>0.374320</td>\n",
       "      <td>U.S Department of State (DOS)\\n\\nBureau of Int...</td>\n",
       "    </tr>\n",
       "  </tbody>\n",
       "</table>\n",
       "</div>"
      ],
      "text/plain": [
       "             solNum               title                 agency  \\\n",
       "0        RFQ1567650   Ssd Disintegrator  Department of Defense   \n",
       "1  SPRHA4-23-Q-0405    Sprha4-23-Q-0405  Department of Defense   \n",
       "2  SPRHA4-23-Q-0405    Sprha4-23-Q-0405  Department of Defense   \n",
       "3  SPRHA4-23-Q-0405    Sprha4-23-Q-0405  Department of Defense   \n",
       "4     191NLE23Q0015  Gas Chromatographs    Department of State   \n",
       "\n",
       "                           office                   createdAt  \\\n",
       "0           DEPT OF THE AIR FORCE  2022-08-05 10:04:55.541839   \n",
       "1  DEFENSE LOGISTICS AGENCY (DLA)  2023-03-02 10:22:30.392402   \n",
       "2  DEFENSE LOGISTICS AGENCY (DLA)  2023-03-02 10:22:30.392402   \n",
       "3  DEFENSE LOGISTICS AGENCY (DLA)  2023-03-02 10:22:30.392402   \n",
       "4            STATE, DEPARTMENT OF  2023-02-28 10:22:42.937648   \n",
       "\n",
       "                         reviewRec                   filename  \\\n",
       "0  Non-compliant (Action Required)      Statement of Need.pdf   \n",
       "1  Non-compliant (Action Required)                    EDL.pdf   \n",
       "2  Non-compliant (Action Required)                    SOW.pdf   \n",
       "3  Non-compliant (Action Required)                   SQS .pdf   \n",
       "4  Non-compliant (Action Required)  SOW Gas Chromatograph.pdf   \n",
       "\n",
       "                                      attachment_url machine_readable  \\\n",
       "0  https://sam.gov/api/prod/opps/v3/opportunities...                t   \n",
       "1  https://sam.gov/api/prod/opps/v3/opportunities...                t   \n",
       "2  https://sam.gov/api/prod/opps/v3/opportunities...                t   \n",
       "3  https://sam.gov/api/prod/opps/v3/opportunities...                t   \n",
       "4  https://sam.gov/api/prod/opps/v3/opportunities...                t   \n",
       "\n",
       "   prediction  decision_boundary  \\\n",
       "0           0           0.564459   \n",
       "1           0           0.547941   \n",
       "2           0           0.549131   \n",
       "3           0           0.404582   \n",
       "4           0           0.374320   \n",
       "\n",
       "                                     attachment_text  \n",
       "0  Statement of Need\\n1. Purpose: Addition of SSD...  \n",
       "1  REVISION: 2\\n\\n*HISTORY*\\n\\nENGINEERING DATA L...  \n",
       "2  406 SCMS/GULAA-Hill\\n\\nOctober 1, 2015\\n\\nStat...  \n",
       "3  MANUFACTURING QUALIFICATION REQUIREMENTS\\n6685...  \n",
       "4  U.S Department of State (DOS)\\n\\nBureau of Int...  "
      ]
     },
     "execution_count": 3,
     "metadata": {},
     "output_type": "execute_result"
    }
   ],
   "source": [
    "#df = pd.read_csv('fy23_training_with_attachments.csv')\n",
    "df = pd.read_csv('fy22_23_training_with_attachments.csv')\n",
    "\n",
    "df.head(5)"
   ]
  },
  {
   "cell_type": "markdown",
   "id": "b8e8b5d7",
   "metadata": {},
   "source": [
    "To view solcitiation attachmnets, type in the solicitation number."
   ]
  },
  {
   "cell_type": "code",
   "execution_count": 4,
   "id": "d20e047e",
   "metadata": {},
   "outputs": [
    {
     "name": "stdout",
     "output_type": "stream",
     "text": [
      "['12905B23Q0221' '3-B139-Q-00822-00' 'CO320-23' ... '12505B23Q0298'\n",
      " 'W911S623Q0022-MET' '12805B23Q0918']\n"
     ]
    }
   ],
   "source": [
    "# Get all the unqiue sol numbers from the dataframe\n",
    "\n",
    "sol_numbers = df.solNum.unique()\n",
    "#attachments = df.loc[df['solNum'] == '12905B23Q0221']\n",
    "print(sol_numbers)\n",
    "\n"
   ]
  },
  {
   "cell_type": "code",
   "execution_count": 5,
   "id": "6cb45d78",
   "metadata": {},
   "outputs": [
    {
     "data": {
      "text/html": [
       "Statement of Work (SOW)\n",
       "Comprehensive maintenance of and service for two STERIS sterilizers, covering all parts, labor,\n",
       "travel, and any other incidental costs.\n",
       "To include 4 standard inspections (and related cleaning and calibration) per year for each of the 2\n",
       "units throughout the service period as well as timely response to service requests and on-demand\n",
       "assistance remotely.\n",
       "All replacement parts to be STERIS brand or STERIS recommended. The autoclaves are\n",
       "currently due for maintenance and inspection."
      ],
      "text/plain": [
       "<IPython.core.display.HTML object>"
      ]
     },
     "metadata": {},
     "output_type": "display_data"
    }
   ],
   "source": [
    "# Add in the solNum to view the attachement text\n",
    "# The display will be an HTML view\n",
    "view = df.loc[df['solNum'] == '12905B23Q0221', 'attachment_text'].iloc[1]\n",
    "display(HTML(view))\n"
   ]
  },
  {
   "cell_type": "code",
   "execution_count": 12,
   "id": "9652055c",
   "metadata": {},
   "outputs": [
    {
     "name": "stdout",
     "output_type": "stream",
     "text": [
      "no matches\n"
     ]
    }
   ],
   "source": [
    "# Search for relevant key words for checking for Section 508 language in the attachment txt data\n",
    "find = [\"Section 508\", \"Accessibility\", \"Rehabilitation Act of 1973\"]\n",
    "\n",
    "\n",
    "if any(x in view for x in find):\n",
    "    print(find)\n",
    "else:\n",
    "    print(\"no matches\")"
   ]
  },
  {
   "cell_type": "code",
   "execution_count": 10,
   "metadata": {},
   "outputs": [
    {
     "ename": "KeyboardInterrupt",
     "evalue": "",
     "output_type": "error",
     "traceback": [
      "\u001b[0;31m---------------------------------------------------------------------------\u001b[0m",
      "\u001b[0;31mKeyboardInterrupt\u001b[0m                         Traceback (most recent call last)",
      "\u001b[1;32m/home/adambuckingham/code/GSA/srt/srt-fbo-scraper/data/view_fy23_data.ipynb Cell 8\u001b[0m line \u001b[0;36m3\n\u001b[1;32m     <a href='vscode-notebook-cell://wsl%2Bubuntu/home/adambuckingham/code/GSA/srt/srt-fbo-scraper/data/view_fy23_data.ipynb#X10sdnNjb2RlLXJlbW90ZQ%3D%3D?line=27'>28</a>\u001b[0m \u001b[39mif\u001b[39;00m attachment_text:\n\u001b[1;32m     <a href='vscode-notebook-cell://wsl%2Bubuntu/home/adambuckingham/code/GSA/srt/srt-fbo-scraper/data/view_fy23_data.ipynb#X10sdnNjb2RlLXJlbW90ZQ%3D%3D?line=28'>29</a>\u001b[0m     attachment\u001b[39m.\u001b[39mappend(attachment_text)\n\u001b[0;32m---> <a href='vscode-notebook-cell://wsl%2Bubuntu/home/adambuckingham/code/GSA/srt/srt-fbo-scraper/data/view_fy23_data.ipynb#X10sdnNjb2RlLXJlbW90ZQ%3D%3D?line=29'>30</a>\u001b[0m     \u001b[39mif\u001b[39;00m \u001b[39many\u001b[39;49m(word \u001b[39min\u001b[39;49;00m str_attachment\u001b[39m.\u001b[39;49mlower() \u001b[39mfor\u001b[39;49;00m word \u001b[39min\u001b[39;49;00m lower_find):\n\u001b[1;32m     <a href='vscode-notebook-cell://wsl%2Bubuntu/home/adambuckingham/code/GSA/srt/srt-fbo-scraper/data/view_fy23_data.ipynb#X10sdnNjb2RlLXJlbW90ZQ%3D%3D?line=30'>31</a>\u001b[0m         label\u001b[39m.\u001b[39mappend(\u001b[39m'\u001b[39m\u001b[39mGREEN\u001b[39m\u001b[39m'\u001b[39m)\n\u001b[1;32m     <a href='vscode-notebook-cell://wsl%2Bubuntu/home/adambuckingham/code/GSA/srt/srt-fbo-scraper/data/view_fy23_data.ipynb#X10sdnNjb2RlLXJlbW90ZQ%3D%3D?line=31'>32</a>\u001b[0m     \u001b[39melse\u001b[39;00m:\n",
      "\u001b[1;32m/home/adambuckingham/code/GSA/srt/srt-fbo-scraper/data/view_fy23_data.ipynb Cell 8\u001b[0m line \u001b[0;36m3\n\u001b[1;32m     <a href='vscode-notebook-cell://wsl%2Bubuntu/home/adambuckingham/code/GSA/srt/srt-fbo-scraper/data/view_fy23_data.ipynb#X10sdnNjb2RlLXJlbW90ZQ%3D%3D?line=27'>28</a>\u001b[0m \u001b[39mif\u001b[39;00m attachment_text:\n\u001b[1;32m     <a href='vscode-notebook-cell://wsl%2Bubuntu/home/adambuckingham/code/GSA/srt/srt-fbo-scraper/data/view_fy23_data.ipynb#X10sdnNjb2RlLXJlbW90ZQ%3D%3D?line=28'>29</a>\u001b[0m     attachment\u001b[39m.\u001b[39mappend(attachment_text)\n\u001b[0;32m---> <a href='vscode-notebook-cell://wsl%2Bubuntu/home/adambuckingham/code/GSA/srt/srt-fbo-scraper/data/view_fy23_data.ipynb#X10sdnNjb2RlLXJlbW90ZQ%3D%3D?line=29'>30</a>\u001b[0m     \u001b[39mif\u001b[39;00m \u001b[39many\u001b[39m(word \u001b[39min\u001b[39;00m str_attachment\u001b[39m.\u001b[39;49mlower() \u001b[39mfor\u001b[39;00m word \u001b[39min\u001b[39;00m lower_find):\n\u001b[1;32m     <a href='vscode-notebook-cell://wsl%2Bubuntu/home/adambuckingham/code/GSA/srt/srt-fbo-scraper/data/view_fy23_data.ipynb#X10sdnNjb2RlLXJlbW90ZQ%3D%3D?line=30'>31</a>\u001b[0m         label\u001b[39m.\u001b[39mappend(\u001b[39m'\u001b[39m\u001b[39mGREEN\u001b[39m\u001b[39m'\u001b[39m)\n\u001b[1;32m     <a href='vscode-notebook-cell://wsl%2Bubuntu/home/adambuckingham/code/GSA/srt/srt-fbo-scraper/data/view_fy23_data.ipynb#X10sdnNjb2RlLXJlbW90ZQ%3D%3D?line=31'>32</a>\u001b[0m     \u001b[39melse\u001b[39;00m:\n",
      "\u001b[0;31mKeyboardInterrupt\u001b[0m: "
     ]
    }
   ],
   "source": [
    "# Make CSV With Finding Revelant Key words in Attachment Text\n",
    "dict_to_df = {}\n",
    "attachment = []\n",
    "label = []\n",
    "#view = df.loc[df['solNum'] == '12905B23Q0221', 'attachment_text'].iloc[1]\n",
    "find = [\"Section 508\", \"Accessibility\", \"Rehabilitation Act of 1973\", \"accessibility\", \"section 508\",\n",
    "        \"rehabilitation act of 1973\", \"Section 508 is not required\", \"section 508 is not required\", \n",
    "        \"national security exemption\", \"National Security Exemption\", \"National security exemption\",\n",
    "        \"maintenance and monitoring spaces exception\", \"Maintenance and Monitoring Spaces Exception\",\n",
    "        \"fundamental alteration exception\", \"Fundamental Alteration Exception\", \"Fundamental alteration exception\",\n",
    "        \"federal contracts exception\", \"Federal Contracts Exception\", \"Federal contracts exception\",\n",
    "        \"undue burden exception\", \"Undue Burden Exception\", \"Undue burden exception\", \"undue burden\", \"Undue burden\",\n",
    "    ]\n",
    "\n",
    "#Lower Case Find Words:\n",
    "lower_find = [\n",
    "    \"section 508\", \"accessibility\", \"rehabilitation act of 1973\", \"section 508 is not required\",\n",
    "    \"national security exemption\", \"maintenance and monitoring spaces exception\",\n",
    "    \"fundamental alteration exception\", \"federal contracts exception\",\n",
    "    \"undue burden exception\", \"undue burden\"\n",
    "]\n",
    "\n",
    "# Dropping rows without attachment text\n",
    "df_drop = df.dropna(subset=['attachment_text'])\n",
    "for index, row in df_drop.iterrows():\n",
    "    attachment_text = row['attachment_text']\n",
    "    str_attachment = str(attachment_text)\n",
    "    if attachment_text:\n",
    "        attachment.append(attachment_text)\n",
    "        if any(word in str_attachment.lower() for word in lower_find):\n",
    "            label.append('GREEN')\n",
    "        else:\n",
    "            label.append('RED')\n",
    "    else:\n",
    "        continue\n",
    "        "
   ]
  },
  {
   "cell_type": "code",
   "execution_count": 7,
   "metadata": {},
   "outputs": [
    {
     "ename": "NameError",
     "evalue": "name 'attachment' is not defined",
     "output_type": "error",
     "traceback": [
      "\u001b[0;31m---------------------------------------------------------------------------\u001b[0m",
      "\u001b[0;31mNameError\u001b[0m                                 Traceback (most recent call last)",
      "\u001b[1;32m/home/adambuckingham/code/GSA/srt/srt-fbo-scraper/data/view_fy23_data.ipynb Cell 9\u001b[0m line \u001b[0;36m1\n\u001b[0;32m----> <a href='vscode-notebook-cell://wsl%2Bubuntu/home/adambuckingham/code/GSA/srt/srt-fbo-scraper/data/view_fy23_data.ipynb#X11sdnNjb2RlLXJlbW90ZQ%3D%3D?line=0'>1</a>\u001b[0m dict_to_df \u001b[39m=\u001b[39m \u001b[39mdict\u001b[39m(attachment\u001b[39m=\u001b[39mattachment, label\u001b[39m=\u001b[39mlabel)\n\u001b[1;32m      <a href='vscode-notebook-cell://wsl%2Bubuntu/home/adambuckingham/code/GSA/srt/srt-fbo-scraper/data/view_fy23_data.ipynb#X11sdnNjb2RlLXJlbW90ZQ%3D%3D?line=2'>3</a>\u001b[0m to_csv_df \u001b[39m=\u001b[39m pd\u001b[39m.\u001b[39mDataFrame(dict_to_df)\n\u001b[1;32m      <a href='vscode-notebook-cell://wsl%2Bubuntu/home/adambuckingham/code/GSA/srt/srt-fbo-scraper/data/view_fy23_data.ipynb#X11sdnNjb2RlLXJlbW90ZQ%3D%3D?line=4'>5</a>\u001b[0m \u001b[39m#to_csv_df.to_csv('fy23_training_labels.csv', index=False)\u001b[39;00m\n",
      "\u001b[0;31mNameError\u001b[0m: name 'attachment' is not defined"
     ]
    }
   ],
   "source": [
    "dict_to_df = dict(attachment=attachment, label=label)\n",
    "\n",
    "to_csv_df = pd.DataFrame(dict_to_df)\n",
    "\n"
   ]
  },
  {
   "cell_type": "code",
   "execution_count": 8,
   "metadata": {},
   "outputs": [
    {
     "ename": "NameError",
     "evalue": "name 'to_csv_df' is not defined",
     "output_type": "error",
     "traceback": [
      "\u001b[0;31m---------------------------------------------------------------------------\u001b[0m",
      "\u001b[0;31mNameError\u001b[0m                                 Traceback (most recent call last)",
      "\u001b[1;32m/home/adambuckingham/code/GSA/srt/srt-fbo-scraper/data/view_fy23_data.ipynb Cell 10\u001b[0m line \u001b[0;36m2\n\u001b[1;32m      <a href='vscode-notebook-cell://wsl%2Bubuntu/home/adambuckingham/code/GSA/srt/srt-fbo-scraper/data/view_fy23_data.ipynb#X15sdnNjb2RlLXJlbW90ZQ%3D%3D?line=0'>1</a>\u001b[0m \u001b[39m#to_csv_df.to_csv('fy23_training_labels.csv', index=False)\u001b[39;00m\n\u001b[0;32m----> <a href='vscode-notebook-cell://wsl%2Bubuntu/home/adambuckingham/code/GSA/srt/srt-fbo-scraper/data/view_fy23_data.ipynb#X15sdnNjb2RlLXJlbW90ZQ%3D%3D?line=1'>2</a>\u001b[0m to_csv_df\u001b[39m.\u001b[39mto_csv(\u001b[39m'\u001b[39m\u001b[39mfy22_23_training_labels.csv\u001b[39m\u001b[39m'\u001b[39m, index\u001b[39m=\u001b[39m\u001b[39mFalse\u001b[39;00m)\n",
      "\u001b[0;31mNameError\u001b[0m: name 'to_csv_df' is not defined"
     ]
    }
   ],
   "source": [
    "# Convert to CSV\n",
    "\n",
    "#to_csv_df.to_csv('fy23_training_labels.csv', index=False)\n",
    "to_csv_df.to_csv('fy22_23_training_labels.csv', index=False)"
   ]
  },
  {
   "cell_type": "code",
   "execution_count": 12,
   "metadata": {},
   "outputs": [
    {
     "ename": "FileNotFoundError",
     "evalue": "[Errno 2] No such file or directory: 'fy22_23_training_with_labels.csv'",
     "output_type": "error",
     "traceback": [
      "\u001b[0;31m---------------------------------------------------------------------------\u001b[0m",
      "\u001b[0;31mFileNotFoundError\u001b[0m                         Traceback (most recent call last)",
      "\u001b[1;32m/home/adambuckingham/code/GSA/srt/srt-fbo-scraper/data/view_fy23_data.ipynb Cell 11\u001b[0m line \u001b[0;36m4\n\u001b[1;32m      <a href='vscode-notebook-cell://wsl%2Bubuntu/home/adambuckingham/code/GSA/srt/srt-fbo-scraper/data/view_fy23_data.ipynb#X14sdnNjb2RlLXJlbW90ZQ%3D%3D?line=0'>1</a>\u001b[0m \u001b[39m# Display Dataframe with dtale\u001b[39;00m\n\u001b[1;32m      <a href='vscode-notebook-cell://wsl%2Bubuntu/home/adambuckingham/code/GSA/srt/srt-fbo-scraper/data/view_fy23_data.ipynb#X14sdnNjb2RlLXJlbW90ZQ%3D%3D?line=1'>2</a>\u001b[0m \u001b[39mimport\u001b[39;00m \u001b[39mdtale\u001b[39;00m\n\u001b[0;32m----> <a href='vscode-notebook-cell://wsl%2Bubuntu/home/adambuckingham/code/GSA/srt/srt-fbo-scraper/data/view_fy23_data.ipynb#X14sdnNjb2RlLXJlbW90ZQ%3D%3D?line=3'>4</a>\u001b[0m df \u001b[39m=\u001b[39m pd\u001b[39m.\u001b[39;49mread_csv(\u001b[39m'\u001b[39;49m\u001b[39mfy22_23_training_with_labels.csv\u001b[39;49m\u001b[39m'\u001b[39;49m)\n\u001b[1;32m      <a href='vscode-notebook-cell://wsl%2Bubuntu/home/adambuckingham/code/GSA/srt/srt-fbo-scraper/data/view_fy23_data.ipynb#X14sdnNjb2RlLXJlbW90ZQ%3D%3D?line=5'>6</a>\u001b[0m d \u001b[39m=\u001b[39m dtale\u001b[39m.\u001b[39mshow(df)\n\u001b[1;32m      <a href='vscode-notebook-cell://wsl%2Bubuntu/home/adambuckingham/code/GSA/srt/srt-fbo-scraper/data/view_fy23_data.ipynb#X14sdnNjb2RlLXJlbW90ZQ%3D%3D?line=7'>8</a>\u001b[0m d\u001b[39m.\u001b[39mopen_browser()\n",
      "File \u001b[0;32m~/code/GSA/srt/srt-fbo-scraper/.venv_310/lib/python3.10/site-packages/pandas/io/parsers/readers.py:948\u001b[0m, in \u001b[0;36mread_csv\u001b[0;34m(filepath_or_buffer, sep, delimiter, header, names, index_col, usecols, dtype, engine, converters, true_values, false_values, skipinitialspace, skiprows, skipfooter, nrows, na_values, keep_default_na, na_filter, verbose, skip_blank_lines, parse_dates, infer_datetime_format, keep_date_col, date_parser, date_format, dayfirst, cache_dates, iterator, chunksize, compression, thousands, decimal, lineterminator, quotechar, quoting, doublequote, escapechar, comment, encoding, encoding_errors, dialect, on_bad_lines, delim_whitespace, low_memory, memory_map, float_precision, storage_options, dtype_backend)\u001b[0m\n\u001b[1;32m    935\u001b[0m kwds_defaults \u001b[39m=\u001b[39m _refine_defaults_read(\n\u001b[1;32m    936\u001b[0m     dialect,\n\u001b[1;32m    937\u001b[0m     delimiter,\n\u001b[0;32m   (...)\u001b[0m\n\u001b[1;32m    944\u001b[0m     dtype_backend\u001b[39m=\u001b[39mdtype_backend,\n\u001b[1;32m    945\u001b[0m )\n\u001b[1;32m    946\u001b[0m kwds\u001b[39m.\u001b[39mupdate(kwds_defaults)\n\u001b[0;32m--> 948\u001b[0m \u001b[39mreturn\u001b[39;00m _read(filepath_or_buffer, kwds)\n",
      "File \u001b[0;32m~/code/GSA/srt/srt-fbo-scraper/.venv_310/lib/python3.10/site-packages/pandas/io/parsers/readers.py:611\u001b[0m, in \u001b[0;36m_read\u001b[0;34m(filepath_or_buffer, kwds)\u001b[0m\n\u001b[1;32m    608\u001b[0m _validate_names(kwds\u001b[39m.\u001b[39mget(\u001b[39m\"\u001b[39m\u001b[39mnames\u001b[39m\u001b[39m\"\u001b[39m, \u001b[39mNone\u001b[39;00m))\n\u001b[1;32m    610\u001b[0m \u001b[39m# Create the parser.\u001b[39;00m\n\u001b[0;32m--> 611\u001b[0m parser \u001b[39m=\u001b[39m TextFileReader(filepath_or_buffer, \u001b[39m*\u001b[39;49m\u001b[39m*\u001b[39;49mkwds)\n\u001b[1;32m    613\u001b[0m \u001b[39mif\u001b[39;00m chunksize \u001b[39mor\u001b[39;00m iterator:\n\u001b[1;32m    614\u001b[0m     \u001b[39mreturn\u001b[39;00m parser\n",
      "File \u001b[0;32m~/code/GSA/srt/srt-fbo-scraper/.venv_310/lib/python3.10/site-packages/pandas/io/parsers/readers.py:1448\u001b[0m, in \u001b[0;36mTextFileReader.__init__\u001b[0;34m(self, f, engine, **kwds)\u001b[0m\n\u001b[1;32m   1445\u001b[0m     \u001b[39mself\u001b[39m\u001b[39m.\u001b[39moptions[\u001b[39m\"\u001b[39m\u001b[39mhas_index_names\u001b[39m\u001b[39m\"\u001b[39m] \u001b[39m=\u001b[39m kwds[\u001b[39m\"\u001b[39m\u001b[39mhas_index_names\u001b[39m\u001b[39m\"\u001b[39m]\n\u001b[1;32m   1447\u001b[0m \u001b[39mself\u001b[39m\u001b[39m.\u001b[39mhandles: IOHandles \u001b[39m|\u001b[39m \u001b[39mNone\u001b[39;00m \u001b[39m=\u001b[39m \u001b[39mNone\u001b[39;00m\n\u001b[0;32m-> 1448\u001b[0m \u001b[39mself\u001b[39m\u001b[39m.\u001b[39m_engine \u001b[39m=\u001b[39m \u001b[39mself\u001b[39;49m\u001b[39m.\u001b[39;49m_make_engine(f, \u001b[39mself\u001b[39;49m\u001b[39m.\u001b[39;49mengine)\n",
      "File \u001b[0;32m~/code/GSA/srt/srt-fbo-scraper/.venv_310/lib/python3.10/site-packages/pandas/io/parsers/readers.py:1705\u001b[0m, in \u001b[0;36mTextFileReader._make_engine\u001b[0;34m(self, f, engine)\u001b[0m\n\u001b[1;32m   1703\u001b[0m     \u001b[39mif\u001b[39;00m \u001b[39m\"\u001b[39m\u001b[39mb\u001b[39m\u001b[39m\"\u001b[39m \u001b[39mnot\u001b[39;00m \u001b[39min\u001b[39;00m mode:\n\u001b[1;32m   1704\u001b[0m         mode \u001b[39m+\u001b[39m\u001b[39m=\u001b[39m \u001b[39m\"\u001b[39m\u001b[39mb\u001b[39m\u001b[39m\"\u001b[39m\n\u001b[0;32m-> 1705\u001b[0m \u001b[39mself\u001b[39m\u001b[39m.\u001b[39mhandles \u001b[39m=\u001b[39m get_handle(\n\u001b[1;32m   1706\u001b[0m     f,\n\u001b[1;32m   1707\u001b[0m     mode,\n\u001b[1;32m   1708\u001b[0m     encoding\u001b[39m=\u001b[39;49m\u001b[39mself\u001b[39;49m\u001b[39m.\u001b[39;49moptions\u001b[39m.\u001b[39;49mget(\u001b[39m\"\u001b[39;49m\u001b[39mencoding\u001b[39;49m\u001b[39m\"\u001b[39;49m, \u001b[39mNone\u001b[39;49;00m),\n\u001b[1;32m   1709\u001b[0m     compression\u001b[39m=\u001b[39;49m\u001b[39mself\u001b[39;49m\u001b[39m.\u001b[39;49moptions\u001b[39m.\u001b[39;49mget(\u001b[39m\"\u001b[39;49m\u001b[39mcompression\u001b[39;49m\u001b[39m\"\u001b[39;49m, \u001b[39mNone\u001b[39;49;00m),\n\u001b[1;32m   1710\u001b[0m     memory_map\u001b[39m=\u001b[39;49m\u001b[39mself\u001b[39;49m\u001b[39m.\u001b[39;49moptions\u001b[39m.\u001b[39;49mget(\u001b[39m\"\u001b[39;49m\u001b[39mmemory_map\u001b[39;49m\u001b[39m\"\u001b[39;49m, \u001b[39mFalse\u001b[39;49;00m),\n\u001b[1;32m   1711\u001b[0m     is_text\u001b[39m=\u001b[39;49mis_text,\n\u001b[1;32m   1712\u001b[0m     errors\u001b[39m=\u001b[39;49m\u001b[39mself\u001b[39;49m\u001b[39m.\u001b[39;49moptions\u001b[39m.\u001b[39;49mget(\u001b[39m\"\u001b[39;49m\u001b[39mencoding_errors\u001b[39;49m\u001b[39m\"\u001b[39;49m, \u001b[39m\"\u001b[39;49m\u001b[39mstrict\u001b[39;49m\u001b[39m\"\u001b[39;49m),\n\u001b[1;32m   1713\u001b[0m     storage_options\u001b[39m=\u001b[39;49m\u001b[39mself\u001b[39;49m\u001b[39m.\u001b[39;49moptions\u001b[39m.\u001b[39;49mget(\u001b[39m\"\u001b[39;49m\u001b[39mstorage_options\u001b[39;49m\u001b[39m\"\u001b[39;49m, \u001b[39mNone\u001b[39;49;00m),\n\u001b[1;32m   1714\u001b[0m )\n\u001b[1;32m   1715\u001b[0m \u001b[39massert\u001b[39;00m \u001b[39mself\u001b[39m\u001b[39m.\u001b[39mhandles \u001b[39mis\u001b[39;00m \u001b[39mnot\u001b[39;00m \u001b[39mNone\u001b[39;00m\n\u001b[1;32m   1716\u001b[0m f \u001b[39m=\u001b[39m \u001b[39mself\u001b[39m\u001b[39m.\u001b[39mhandles\u001b[39m.\u001b[39mhandle\n",
      "File \u001b[0;32m~/code/GSA/srt/srt-fbo-scraper/.venv_310/lib/python3.10/site-packages/pandas/io/common.py:863\u001b[0m, in \u001b[0;36mget_handle\u001b[0;34m(path_or_buf, mode, encoding, compression, memory_map, is_text, errors, storage_options)\u001b[0m\n\u001b[1;32m    858\u001b[0m \u001b[39melif\u001b[39;00m \u001b[39misinstance\u001b[39m(handle, \u001b[39mstr\u001b[39m):\n\u001b[1;32m    859\u001b[0m     \u001b[39m# Check whether the filename is to be opened in binary mode.\u001b[39;00m\n\u001b[1;32m    860\u001b[0m     \u001b[39m# Binary mode does not support 'encoding' and 'newline'.\u001b[39;00m\n\u001b[1;32m    861\u001b[0m     \u001b[39mif\u001b[39;00m ioargs\u001b[39m.\u001b[39mencoding \u001b[39mand\u001b[39;00m \u001b[39m\"\u001b[39m\u001b[39mb\u001b[39m\u001b[39m\"\u001b[39m \u001b[39mnot\u001b[39;00m \u001b[39min\u001b[39;00m ioargs\u001b[39m.\u001b[39mmode:\n\u001b[1;32m    862\u001b[0m         \u001b[39m# Encoding\u001b[39;00m\n\u001b[0;32m--> 863\u001b[0m         handle \u001b[39m=\u001b[39m \u001b[39mopen\u001b[39;49m(\n\u001b[1;32m    864\u001b[0m             handle,\n\u001b[1;32m    865\u001b[0m             ioargs\u001b[39m.\u001b[39;49mmode,\n\u001b[1;32m    866\u001b[0m             encoding\u001b[39m=\u001b[39;49mioargs\u001b[39m.\u001b[39;49mencoding,\n\u001b[1;32m    867\u001b[0m             errors\u001b[39m=\u001b[39;49merrors,\n\u001b[1;32m    868\u001b[0m             newline\u001b[39m=\u001b[39;49m\u001b[39m\"\u001b[39;49m\u001b[39m\"\u001b[39;49m,\n\u001b[1;32m    869\u001b[0m         )\n\u001b[1;32m    870\u001b[0m     \u001b[39melse\u001b[39;00m:\n\u001b[1;32m    871\u001b[0m         \u001b[39m# Binary mode\u001b[39;00m\n\u001b[1;32m    872\u001b[0m         handle \u001b[39m=\u001b[39m \u001b[39mopen\u001b[39m(handle, ioargs\u001b[39m.\u001b[39mmode)\n",
      "\u001b[0;31mFileNotFoundError\u001b[0m: [Errno 2] No such file or directory: 'fy22_23_training_with_labels.csv'"
     ]
    }
   ],
   "source": [
    "# Display Dataframe with dtale\n",
    "import dtale\n",
    "\n",
    "df = pd.read_csv('fy22_23_training_labels.csv')\n",
    "\n",
    "d = dtale.show(df)\n",
    "\n",
    "d.open_browser()\n"
   ]
  },
  {
   "cell_type": "code",
   "execution_count": 8,
   "metadata": {},
   "outputs": [],
   "source": [
    "df = pd.read_csv('fy23_training_labels.csv')\n",
    "# Split by 500 rows\n",
    "df1 = df.iloc[0:500]\n",
    "df2 = df.iloc[500:1000]\n",
    "df3 = df.iloc[1000:1500]\n",
    "df4 = df.iloc[1500:2000]\n",
    "df5 = df.iloc[2000:2500]\n",
    "df6 = df.iloc[2500:3000]\n",
    "df7 = df.iloc[3000:-1]\n",
    "\n",
    "\n",
    "df1.to_csv('fy23_training_labels_1.csv', index=False)\n",
    "df2.to_csv('fy23_training_labels_2.csv', index=False)\n",
    "df3.to_csv('fy23_training_labels_3.csv', index=False)\n",
    "df4.to_csv('fy23_training_labels_4.csv', index=False)\n",
    "df5.to_csv('fy23_training_labels_5.csv', index=False)\n",
    "df6.to_csv('fy23_training_labels_6.csv', index=False)\n",
    "df7.to_csv('fy23_training_labels_7.csv', index=False)"
   ]
  }
 ],
 "metadata": {
  "kernelspec": {
   "display_name": "Python 3 (ipykernel)",
   "language": "python",
   "name": "python3"
  },
  "language_info": {
   "codemirror_mode": {
    "name": "ipython",
    "version": 3
   },
   "file_extension": ".py",
   "mimetype": "text/x-python",
   "name": "python",
   "nbconvert_exporter": "python",
   "pygments_lexer": "ipython3",
   "version": "3.10.12"
  }
 },
 "nbformat": 4,
 "nbformat_minor": 5
}
